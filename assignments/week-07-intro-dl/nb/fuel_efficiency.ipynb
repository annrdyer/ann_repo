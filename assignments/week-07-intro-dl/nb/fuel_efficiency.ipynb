{
 "cells": [
  {
   "cell_type": "markdown",
   "metadata": {
    "id": "2TPf8CY_Xumr"
   },
   "source": [
    "<p align = \"center\" draggable=”false” ><img src=\"https://user-images.githubusercontent.com/37101144/161836199-fdb0219d-0361-4988-bf26-48b0fad160a3.png\" \n",
    "     width=\"200px\"\n",
    "     height=\"auto\"/>\n",
    "</p>"
   ]
  },
  {
   "cell_type": "markdown",
   "metadata": {
    "id": "92kCWnfbXumv"
   },
   "source": [
    "# ⛽ Fuel efficiency Prediction"
   ]
  },
  {
   "cell_type": "markdown",
   "metadata": {
    "id": "AHp3M9ZmrIxj"
   },
   "source": [
    "Provided with the classic [Auto MPG](https://archive.ics.uci.edu/ml/datasets/auto+mpg) dataset, we will predict the **fuel efficiency** of the late-1970s and early 1980s automobiles, leveraging features such as cylinders, displacement, horsepower, weight, etc. \n",
    "\n",
    "It is a very small dataset and there are only a few features. We will first build a linear model and a neural network, evaluate their performances, track our experiment runs and inspect the logs using MLflow, and apply [TPOT](https://github.com/EpistasisLab/tpot) to see how it can be used to search over many ML model architectures, followed by explaining the model with SHAP."
   ]
  },
  {
   "cell_type": "markdown",
   "metadata": {
    "id": "PxVwvxwii96J"
   },
   "source": [
    "# 📚 Learning Objectives"
   ]
  },
  {
   "cell_type": "markdown",
   "metadata": {
    "id": "9YCC4uUnXumw"
   },
   "source": [
    "By the end of this session, you will be able to\n",
    "\n",
    "- understand the core building blocks of a neural network\n",
    "- understand what dense and activation layers do\n",
    "- build, train, and evaluate neural networks\n",
    "- track tensorflow experiments with MLflow, access information of runs programmatically and with its tracking ui\n",
    "- perform AutoML to search for optimal tree-based pipeline for a regression task "
   ]
  },
  {
   "cell_type": "markdown",
   "metadata": {
    "id": "P7PFU9Oza7-O"
   },
   "source": [
    "Note: [State of Data Science and Machine Learning 2021](https://www.kaggle.com/kaggle-survey-2021) by Kaggle shows that the most commonly used algorithms were linear and logtistic regressions, followed closely by decision trees, random forests, and gradient boosting machines (are you surprised?). Multilayer perceptron, or artificial neural networks are not yet the popular tools for tabular/structured data; see more technical reasons in papers: [Deep Neural Networks and Tabular Data: A Survey](https://arxiv.org/abs/2110.01889), [Tabular Data: Deep Learning is Not All You Need](https://arxiv.org/abs/2106.03253). For this assignment, the main purpose is for you to get familiar with the basic building blocks in constructing neural networks before we dive into more specialized neural network architectures.\n"
   ]
  },
  {
   "cell_type": "markdown",
   "metadata": {
    "id": "5n584Aq-tmV4"
   },
   "source": [
    "**IMPORTANT**\n",
    "\n",
    "You only need to run the following cells if you're completing the assignment in Google Collab. If you've already installed these libraries locally, you can skip installing these libraries."
   ]
  },
  {
   "cell_type": "code",
   "execution_count": null,
   "metadata": {
    "colab": {
     "base_uri": "https://localhost:8080/"
    },
    "executionInfo": {
     "elapsed": 21159,
     "status": "ok",
     "timestamp": 1663627815324,
     "user": {
      "displayName": "FLORA XU",
      "userId": "14641465521399406540"
     },
     "user_tz": 420
    },
    "id": "cjvDr0LBtmV4",
    "outputId": "13b98562-2ff5-4719-d507-22654dbd6b32"
   },
   "outputs": [],
   "source": [
    "# Connect colab to your Google Drive\n",
    "from google.colab import drive\n",
    "drive.mount('/content/drive')"
   ]
  },
  {
   "cell_type": "code",
   "execution_count": null,
   "metadata": {
    "colab": {
     "base_uri": "https://localhost:8080/"
    },
    "executionInfo": {
     "elapsed": 67678,
     "status": "ok",
     "timestamp": 1663627882995,
     "user": {
      "displayName": "FLORA XU",
      "userId": "14641465521399406540"
     },
     "user_tz": 420
    },
    "id": "moB4tpEHxKB3",
    "outputId": "be99ef21-e3ac-40a0-b9e9-6f0fe4b3e8ec"
   },
   "outputs": [],
   "source": [
    "!pip install -q seaborn # pairplot\n",
    "!pip install -q tpot  # automl\n",
    "\n",
    "!pip install -q mlflow # tracking\n",
    "!pip install -q pyngrok # workaround to run mlflow ui in colab\n",
    "!pip install -q shap"
   ]
  },
  {
   "cell_type": "code",
   "execution_count": 1,
   "metadata": {
    "executionInfo": {
     "elapsed": 971,
     "status": "ok",
     "timestamp": 1663627883959,
     "user": {
      "displayName": "FLORA XU",
      "userId": "14641465521399406540"
     },
     "user_tz": 420
    },
    "id": "1rRo8oNqZ-Rj"
   },
   "outputs": [],
   "source": [
    "import numpy as np\n",
    "import pandas as pd\n",
    "import matplotlib.pyplot as plt\n",
    "import seaborn as sns\n",
    "\n",
    "# Make NumPy printouts easier to read.\n",
    "np.set_printoptions(precision=3, suppress=True)"
   ]
  },
  {
   "cell_type": "code",
   "execution_count": 2,
   "metadata": {
    "colab": {
     "base_uri": "https://localhost:8080/"
    },
    "executionInfo": {
     "elapsed": 3600,
     "status": "ok",
     "timestamp": 1663627887556,
     "user": {
      "displayName": "FLORA XU",
      "userId": "14641465521399406540"
     },
     "user_tz": 420
    },
    "id": "9xQKvCJ85kCQ",
    "outputId": "f9b62362-699a-4ed6-c340-e74d1460f540"
   },
   "outputs": [
    {
     "name": "stderr",
     "output_type": "stream",
     "text": [
      "2022-12-12 19:46:37.101740: I tensorflow/core/platform/cpu_feature_guard.cc:193] This TensorFlow binary is optimized with oneAPI Deep Neural Network Library (oneDNN) to use the following CPU instructions in performance-critical operations:  FMA\n",
      "To enable them in other operations, rebuild TensorFlow with the appropriate compiler flags.\n",
      "2022-12-12 19:46:38.322591: W tensorflow/compiler/xla/stream_executor/platform/default/dso_loader.cc:64] Could not load dynamic library 'libcudart.so.11.0'; dlerror: libcudart.so.11.0: cannot open shared object file: No such file or directory\n",
      "2022-12-12 19:46:38.322696: I tensorflow/compiler/xla/stream_executor/cuda/cudart_stub.cc:29] Ignore above cudart dlerror if you do not have a GPU set up on your machine.\n",
      "2022-12-12 19:46:40.668531: W tensorflow/compiler/xla/stream_executor/platform/default/dso_loader.cc:64] Could not load dynamic library 'libnvinfer.so.7'; dlerror: libnvinfer.so.7: cannot open shared object file: No such file or directory\n",
      "2022-12-12 19:46:40.670032: W tensorflow/compiler/xla/stream_executor/platform/default/dso_loader.cc:64] Could not load dynamic library 'libnvinfer_plugin.so.7'; dlerror: libnvinfer_plugin.so.7: cannot open shared object file: No such file or directory\n",
      "2022-12-12 19:46:40.670070: W tensorflow/compiler/tf2tensorrt/utils/py_utils.cc:38] TF-TRT Warning: Cannot dlopen some TensorRT libraries. If you would like to use Nvidia GPU with TensorRT, please make sure the missing libraries mentioned above are installed properly.\n"
     ]
    },
    {
     "name": "stdout",
     "output_type": "stream",
     "text": [
      "2.11.0\n"
     ]
    }
   ],
   "source": [
    "import tensorflow as tf\n",
    "from tensorflow.keras import layers\n",
    "\n",
    "print(tf.__version__)"
   ]
  },
  {
   "cell_type": "markdown",
   "metadata": {
    "id": "EIdT9iu_Z4Rb"
   },
   "source": [
    "# Task 1 - Data: Auto MPG dataset"
   ]
  },
  {
   "cell_type": "markdown",
   "metadata": {
    "id": "HvK47Su6t0I8"
   },
   "source": [
    "0. Start MLflow's automatic logging using library-specific autolog calls for tensorflow: logging metrics, parameters, and models without the need for explicit log statements. \n",
    "    \n",
    "    We will get into more details using **MLflow** after completing our experiment."
   ]
  },
  {
   "cell_type": "code",
   "execution_count": 3,
   "metadata": {
    "executionInfo": {
     "elapsed": 1153,
     "status": "ok",
     "timestamp": 1663627888705,
     "user": {
      "displayName": "FLORA XU",
      "userId": "14641465521399406540"
     },
     "user_tz": 420
    },
    "id": "6PGEnlTVlFDK"
   },
   "outputs": [
    {
     "name": "stderr",
     "output_type": "stream",
     "text": [
      "2022/12/12 19:46:46 WARNING mlflow.utils.autologging_utils: You are using an unsupported version of tensorflow. If you encounter errors during autologging, try upgrading / downgrading tensorflow to a supported version, or try upgrading MLflow.\n"
     ]
    }
   ],
   "source": [
    "import mlflow\n",
    "mlflow.tensorflow.autolog() # MLflow Autologging"
   ]
  },
  {
   "cell_type": "markdown",
   "metadata": {
    "id": "F_72b0LCNbjx"
   },
   "source": [
    "1. The dataset is available from the [UCI Machine Learning Repository](https://archive.ics.uci.edu/ml/). First download and import the dataset using `pandas`:\n"
   ]
  },
  {
   "cell_type": "code",
   "execution_count": 4,
   "metadata": {
    "executionInfo": {
     "elapsed": 266,
     "status": "ok",
     "timestamp": 1663627888968,
     "user": {
      "displayName": "FLORA XU",
      "userId": "14641465521399406540"
     },
     "user_tz": 420
    },
    "id": "CiX2FI4gZtTt"
   },
   "outputs": [],
   "source": [
    "url = 'http://archive.ics.uci.edu/ml/machine-learning-databases/auto-mpg/auto-mpg.data'\n",
    "column_names = [\n",
    "  'MPG', 'Cylinders', 'Displacement', 'Horsepower', 'Weight',\n",
    "  'Acceleration', 'Model Year', 'Origin'\n",
    "  ]\n",
    "\n",
    "dataset = pd.read_csv(url, names=column_names, na_values='?', \n",
    "                      comment='\\t', sep=' ', skipinitialspace=True)"
   ]
  },
  {
   "cell_type": "code",
   "execution_count": 5,
   "metadata": {
    "colab": {
     "base_uri": "https://localhost:8080/",
     "height": 201
    },
    "executionInfo": {
     "elapsed": 10,
     "status": "ok",
     "timestamp": 1663627888968,
     "user": {
      "displayName": "FLORA XU",
      "userId": "14641465521399406540"
     },
     "user_tz": 420
    },
    "id": "2oY3pMPagJrO",
    "outputId": "93d14a46-35c0-4f28-d549-ebe1e837c86e"
   },
   "outputs": [
    {
     "data": {
      "text/html": [
       "<div>\n",
       "<style scoped>\n",
       "    .dataframe tbody tr th:only-of-type {\n",
       "        vertical-align: middle;\n",
       "    }\n",
       "\n",
       "    .dataframe tbody tr th {\n",
       "        vertical-align: top;\n",
       "    }\n",
       "\n",
       "    .dataframe thead th {\n",
       "        text-align: right;\n",
       "    }\n",
       "</style>\n",
       "<table border=\"1\" class=\"dataframe\">\n",
       "  <thead>\n",
       "    <tr style=\"text-align: right;\">\n",
       "      <th></th>\n",
       "      <th>MPG</th>\n",
       "      <th>Cylinders</th>\n",
       "      <th>Displacement</th>\n",
       "      <th>Horsepower</th>\n",
       "      <th>Weight</th>\n",
       "      <th>Acceleration</th>\n",
       "      <th>Model Year</th>\n",
       "      <th>Origin</th>\n",
       "    </tr>\n",
       "  </thead>\n",
       "  <tbody>\n",
       "    <tr>\n",
       "      <th>393</th>\n",
       "      <td>27.0</td>\n",
       "      <td>4</td>\n",
       "      <td>140.0</td>\n",
       "      <td>86.0</td>\n",
       "      <td>2790.0</td>\n",
       "      <td>15.6</td>\n",
       "      <td>82</td>\n",
       "      <td>1</td>\n",
       "    </tr>\n",
       "    <tr>\n",
       "      <th>394</th>\n",
       "      <td>44.0</td>\n",
       "      <td>4</td>\n",
       "      <td>97.0</td>\n",
       "      <td>52.0</td>\n",
       "      <td>2130.0</td>\n",
       "      <td>24.6</td>\n",
       "      <td>82</td>\n",
       "      <td>2</td>\n",
       "    </tr>\n",
       "    <tr>\n",
       "      <th>395</th>\n",
       "      <td>32.0</td>\n",
       "      <td>4</td>\n",
       "      <td>135.0</td>\n",
       "      <td>84.0</td>\n",
       "      <td>2295.0</td>\n",
       "      <td>11.6</td>\n",
       "      <td>82</td>\n",
       "      <td>1</td>\n",
       "    </tr>\n",
       "    <tr>\n",
       "      <th>396</th>\n",
       "      <td>28.0</td>\n",
       "      <td>4</td>\n",
       "      <td>120.0</td>\n",
       "      <td>79.0</td>\n",
       "      <td>2625.0</td>\n",
       "      <td>18.6</td>\n",
       "      <td>82</td>\n",
       "      <td>1</td>\n",
       "    </tr>\n",
       "    <tr>\n",
       "      <th>397</th>\n",
       "      <td>31.0</td>\n",
       "      <td>4</td>\n",
       "      <td>119.0</td>\n",
       "      <td>82.0</td>\n",
       "      <td>2720.0</td>\n",
       "      <td>19.4</td>\n",
       "      <td>82</td>\n",
       "      <td>1</td>\n",
       "    </tr>\n",
       "  </tbody>\n",
       "</table>\n",
       "</div>"
      ],
      "text/plain": [
       "      MPG  Cylinders  Displacement  Horsepower  Weight  Acceleration  \\\n",
       "393  27.0          4         140.0        86.0  2790.0          15.6   \n",
       "394  44.0          4          97.0        52.0  2130.0          24.6   \n",
       "395  32.0          4         135.0        84.0  2295.0          11.6   \n",
       "396  28.0          4         120.0        79.0  2625.0          18.6   \n",
       "397  31.0          4         119.0        82.0  2720.0          19.4   \n",
       "\n",
       "     Model Year  Origin  \n",
       "393          82       1  \n",
       "394          82       2  \n",
       "395          82       1  \n",
       "396          82       1  \n",
       "397          82       1  "
      ]
     },
     "execution_count": 5,
     "metadata": {},
     "output_type": "execute_result"
    }
   ],
   "source": [
    "dataset.tail()"
   ]
  },
  {
   "cell_type": "markdown",
   "metadata": {
    "id": "3MWuJTKEDM-f"
   },
   "source": [
    "2. The dataset contains a few unknown values, we drop those rows to keep this initial tutorial simple. Use `pd.DataFrame.dropna()`:"
   ]
  },
  {
   "cell_type": "code",
   "execution_count": 6,
   "metadata": {
    "executionInfo": {
     "elapsed": 7,
     "status": "ok",
     "timestamp": 1663627888968,
     "user": {
      "displayName": "FLORA XU",
      "userId": "14641465521399406540"
     },
     "user_tz": 420
    },
    "id": "4ZUDosChC1UN"
   },
   "outputs": [],
   "source": [
    "dataset = dataset.dropna() # YOUR CODE HERE"
   ]
  },
  {
   "cell_type": "markdown",
   "metadata": {
    "id": "8XKitwaH4v8h"
   },
   "source": [
    "3. The `\"Origin\"` column is categorical, not numeric. So the next step is to one-hot encode the values in the column with [pd.get_dummies](https://pandas.pydata.org/docs/reference/api/pandas.get_dummies.html)."
   ]
  },
  {
   "cell_type": "code",
   "execution_count": 7,
   "metadata": {
    "executionInfo": {
     "elapsed": 7,
     "status": "ok",
     "timestamp": 1663627888969,
     "user": {
      "displayName": "FLORA XU",
      "userId": "14641465521399406540"
     },
     "user_tz": 420
    },
    "id": "gWNTD2QjBWFJ"
   },
   "outputs": [],
   "source": [
    "dataset['Origin'] = dataset['Origin'].replace({1: 'USA', 2: 'Europe', 3: 'Japan'})"
   ]
  },
  {
   "cell_type": "code",
   "execution_count": 8,
   "metadata": {
    "colab": {
     "base_uri": "https://localhost:8080/",
     "height": 201
    },
    "executionInfo": {
     "elapsed": 160,
     "status": "ok",
     "timestamp": 1663627889122,
     "user": {
      "displayName": "FLORA XU",
      "userId": "14641465521399406540"
     },
     "user_tz": 420
    },
    "id": "ulXz4J7PAUzk",
    "outputId": "c4c71b71-99cc-4e23-fcc8-93117cc258d5"
   },
   "outputs": [
    {
     "data": {
      "text/html": [
       "<div>\n",
       "<style scoped>\n",
       "    .dataframe tbody tr th:only-of-type {\n",
       "        vertical-align: middle;\n",
       "    }\n",
       "\n",
       "    .dataframe tbody tr th {\n",
       "        vertical-align: top;\n",
       "    }\n",
       "\n",
       "    .dataframe thead th {\n",
       "        text-align: right;\n",
       "    }\n",
       "</style>\n",
       "<table border=\"1\" class=\"dataframe\">\n",
       "  <thead>\n",
       "    <tr style=\"text-align: right;\">\n",
       "      <th></th>\n",
       "      <th>MPG</th>\n",
       "      <th>Cylinders</th>\n",
       "      <th>Displacement</th>\n",
       "      <th>Horsepower</th>\n",
       "      <th>Weight</th>\n",
       "      <th>Acceleration</th>\n",
       "      <th>Model Year</th>\n",
       "      <th>Europe</th>\n",
       "      <th>Japan</th>\n",
       "      <th>USA</th>\n",
       "    </tr>\n",
       "  </thead>\n",
       "  <tbody>\n",
       "    <tr>\n",
       "      <th>393</th>\n",
       "      <td>27.0</td>\n",
       "      <td>4</td>\n",
       "      <td>140.0</td>\n",
       "      <td>86.0</td>\n",
       "      <td>2790.0</td>\n",
       "      <td>15.6</td>\n",
       "      <td>82</td>\n",
       "      <td>0</td>\n",
       "      <td>0</td>\n",
       "      <td>1</td>\n",
       "    </tr>\n",
       "    <tr>\n",
       "      <th>394</th>\n",
       "      <td>44.0</td>\n",
       "      <td>4</td>\n",
       "      <td>97.0</td>\n",
       "      <td>52.0</td>\n",
       "      <td>2130.0</td>\n",
       "      <td>24.6</td>\n",
       "      <td>82</td>\n",
       "      <td>1</td>\n",
       "      <td>0</td>\n",
       "      <td>0</td>\n",
       "    </tr>\n",
       "    <tr>\n",
       "      <th>395</th>\n",
       "      <td>32.0</td>\n",
       "      <td>4</td>\n",
       "      <td>135.0</td>\n",
       "      <td>84.0</td>\n",
       "      <td>2295.0</td>\n",
       "      <td>11.6</td>\n",
       "      <td>82</td>\n",
       "      <td>0</td>\n",
       "      <td>0</td>\n",
       "      <td>1</td>\n",
       "    </tr>\n",
       "    <tr>\n",
       "      <th>396</th>\n",
       "      <td>28.0</td>\n",
       "      <td>4</td>\n",
       "      <td>120.0</td>\n",
       "      <td>79.0</td>\n",
       "      <td>2625.0</td>\n",
       "      <td>18.6</td>\n",
       "      <td>82</td>\n",
       "      <td>0</td>\n",
       "      <td>0</td>\n",
       "      <td>1</td>\n",
       "    </tr>\n",
       "    <tr>\n",
       "      <th>397</th>\n",
       "      <td>31.0</td>\n",
       "      <td>4</td>\n",
       "      <td>119.0</td>\n",
       "      <td>82.0</td>\n",
       "      <td>2720.0</td>\n",
       "      <td>19.4</td>\n",
       "      <td>82</td>\n",
       "      <td>0</td>\n",
       "      <td>0</td>\n",
       "      <td>1</td>\n",
       "    </tr>\n",
       "  </tbody>\n",
       "</table>\n",
       "</div>"
      ],
      "text/plain": [
       "      MPG  Cylinders  Displacement  Horsepower  Weight  Acceleration  \\\n",
       "393  27.0          4         140.0        86.0  2790.0          15.6   \n",
       "394  44.0          4          97.0        52.0  2130.0          24.6   \n",
       "395  32.0          4         135.0        84.0  2295.0          11.6   \n",
       "396  28.0          4         120.0        79.0  2625.0          18.6   \n",
       "397  31.0          4         119.0        82.0  2720.0          19.4   \n",
       "\n",
       "     Model Year  Europe  Japan  USA  \n",
       "393          82       0      0    1  \n",
       "394          82       1      0    0  \n",
       "395          82       0      0    1  \n",
       "396          82       0      0    1  \n",
       "397          82       0      0    1  "
      ]
     },
     "execution_count": 8,
     "metadata": {},
     "output_type": "execute_result"
    }
   ],
   "source": [
    "dataset = pd.get_dummies(dataset, columns=['Origin'], prefix='', prefix_sep='')\n",
    "dataset.tail()"
   ]
  },
  {
   "cell_type": "markdown",
   "metadata": {
    "id": "Cuym4yvk76vU"
   },
   "source": [
    "4. Split the data into training and test sets. To reduce the module importing overhead, instead of `sklearn.model_selection.train_test_split()`, use `pd.DataFrame.sample()` to save 80% of the data aside to `train_dataset`, set the random state to be 0 for reproducibility. \n",
    "\n",
    "   Then use `pd.DataFrame.drop()` to obtain the `test_dataset`."
   ]
  },
  {
   "cell_type": "code",
   "execution_count": 9,
   "metadata": {
    "executionInfo": {
     "elapsed": 4,
     "status": "ok",
     "timestamp": 1663627889123,
     "user": {
      "displayName": "FLORA XU",
      "userId": "14641465521399406540"
     },
     "user_tz": 420
    },
    "id": "qn-IGhUE7_1H"
   },
   "outputs": [],
   "source": [
    "train_dataset = dataset.sample(frac=0.8, random_state=0) # YOUR CODE HERE\n",
    "test_dataset  = dataset.drop(index=train_dataset.index) # YOUR CODE HERE"
   ]
  },
  {
   "cell_type": "markdown",
   "metadata": {
    "id": "J4ubs136WLNp"
   },
   "source": [
    "5. Review the pairwise relationships of a few pairs of columns from the training set. \n",
    "   \n",
    "   The top row suggests that the fuel efficiency (MPG) is a function of all the other parameters. The other rows indicate they are functions of each other."
   ]
  },
  {
   "cell_type": "code",
   "execution_count": 10,
   "metadata": {
    "colab": {
     "base_uri": "https://localhost:8080/",
     "height": 725
    },
    "executionInfo": {
     "elapsed": 14333,
     "status": "ok",
     "timestamp": 1663627903453,
     "user": {
      "displayName": "FLORA XU",
      "userId": "14641465521399406540"
     },
     "user_tz": 420
    },
    "id": "oRKO_x8gWKv-",
    "outputId": "7d80fe75-069d-4a84-af1e-9a3350074962"
   },
   "outputs": [
    {
     "data": {
      "image/png": "[encoded data removed]",
      "text/plain": [
       "<Figure size 1000x1000 with 20 Axes>"
      ]
     },
     "metadata": {},
     "output_type": "display_data"
    }
   ],
   "source": [
    "sns.pairplot(train_dataset[['MPG', 'Cylinders', 'Displacement', 'Weight']], diag_kind='kde');"
   ]
  },
  {
   "cell_type": "markdown",
   "metadata": {
    "id": "gavKO_6DWRMP"
   },
   "source": [
    "Let's also check the overall statistics. Note how each feature covers a very different range:"
   ]
  },
  {
   "cell_type": "code",
   "execution_count": 11,
   "metadata": {
    "colab": {
     "base_uri": "https://localhost:8080/",
     "height": 352
    },
    "executionInfo": {
     "elapsed": 7,
     "status": "ok",
     "timestamp": 1663627903454,
     "user": {
      "displayName": "FLORA XU",
      "userId": "14641465521399406540"
     },
     "user_tz": 420
    },
    "id": "yi2FzC3T21jR",
    "outputId": "eef1e868-f536-40a3-8bc9-c1f046ccc074"
   },
   "outputs": [
    {
     "data": {
      "text/html": [
       "<div>\n",
       "<style scoped>\n",
       "    .dataframe tbody tr th:only-of-type {\n",
       "        vertical-align: middle;\n",
       "    }\n",
       "\n",
       "    .dataframe tbody tr th {\n",
       "        vertical-align: top;\n",
       "    }\n",
       "\n",
       "    .dataframe thead th {\n",
       "        text-align: right;\n",
       "    }\n",
       "</style>\n",
       "<table border=\"1\" class=\"dataframe\">\n",
       "  <thead>\n",
       "    <tr style=\"text-align: right;\">\n",
       "      <th></th>\n",
       "      <th>count</th>\n",
       "      <th>mean</th>\n",
       "      <th>std</th>\n",
       "      <th>min</th>\n",
       "      <th>25%</th>\n",
       "      <th>50%</th>\n",
       "      <th>75%</th>\n",
       "      <th>max</th>\n",
       "    </tr>\n",
       "  </thead>\n",
       "  <tbody>\n",
       "    <tr>\n",
       "      <th>MPG</th>\n",
       "      <td>314.0</td>\n",
       "      <td>23.310510</td>\n",
       "      <td>7.728652</td>\n",
       "      <td>10.0</td>\n",
       "      <td>17.00</td>\n",
       "      <td>22.0</td>\n",
       "      <td>28.95</td>\n",
       "      <td>46.6</td>\n",
       "    </tr>\n",
       "    <tr>\n",
       "      <th>Cylinders</th>\n",
       "      <td>314.0</td>\n",
       "      <td>5.477707</td>\n",
       "      <td>1.699788</td>\n",
       "      <td>3.0</td>\n",
       "      <td>4.00</td>\n",
       "      <td>4.0</td>\n",
       "      <td>8.00</td>\n",
       "      <td>8.0</td>\n",
       "    </tr>\n",
       "    <tr>\n",
       "      <th>Displacement</th>\n",
       "      <td>314.0</td>\n",
       "      <td>195.318471</td>\n",
       "      <td>104.331589</td>\n",
       "      <td>68.0</td>\n",
       "      <td>105.50</td>\n",
       "      <td>151.0</td>\n",
       "      <td>265.75</td>\n",
       "      <td>455.0</td>\n",
       "    </tr>\n",
       "    <tr>\n",
       "      <th>Horsepower</th>\n",
       "      <td>314.0</td>\n",
       "      <td>104.869427</td>\n",
       "      <td>38.096214</td>\n",
       "      <td>46.0</td>\n",
       "      <td>76.25</td>\n",
       "      <td>94.5</td>\n",
       "      <td>128.00</td>\n",
       "      <td>225.0</td>\n",
       "    </tr>\n",
       "    <tr>\n",
       "      <th>Weight</th>\n",
       "      <td>314.0</td>\n",
       "      <td>2990.251592</td>\n",
       "      <td>843.898596</td>\n",
       "      <td>1649.0</td>\n",
       "      <td>2256.50</td>\n",
       "      <td>2822.5</td>\n",
       "      <td>3608.00</td>\n",
       "      <td>5140.0</td>\n",
       "    </tr>\n",
       "    <tr>\n",
       "      <th>Acceleration</th>\n",
       "      <td>314.0</td>\n",
       "      <td>15.559236</td>\n",
       "      <td>2.789230</td>\n",
       "      <td>8.0</td>\n",
       "      <td>13.80</td>\n",
       "      <td>15.5</td>\n",
       "      <td>17.20</td>\n",
       "      <td>24.8</td>\n",
       "    </tr>\n",
       "    <tr>\n",
       "      <th>Model Year</th>\n",
       "      <td>314.0</td>\n",
       "      <td>75.898089</td>\n",
       "      <td>3.675642</td>\n",
       "      <td>70.0</td>\n",
       "      <td>73.00</td>\n",
       "      <td>76.0</td>\n",
       "      <td>79.00</td>\n",
       "      <td>82.0</td>\n",
       "    </tr>\n",
       "    <tr>\n",
       "      <th>Europe</th>\n",
       "      <td>314.0</td>\n",
       "      <td>0.178344</td>\n",
       "      <td>0.383413</td>\n",
       "      <td>0.0</td>\n",
       "      <td>0.00</td>\n",
       "      <td>0.0</td>\n",
       "      <td>0.00</td>\n",
       "      <td>1.0</td>\n",
       "    </tr>\n",
       "    <tr>\n",
       "      <th>Japan</th>\n",
       "      <td>314.0</td>\n",
       "      <td>0.197452</td>\n",
       "      <td>0.398712</td>\n",
       "      <td>0.0</td>\n",
       "      <td>0.00</td>\n",
       "      <td>0.0</td>\n",
       "      <td>0.00</td>\n",
       "      <td>1.0</td>\n",
       "    </tr>\n",
       "    <tr>\n",
       "      <th>USA</th>\n",
       "      <td>314.0</td>\n",
       "      <td>0.624204</td>\n",
       "      <td>0.485101</td>\n",
       "      <td>0.0</td>\n",
       "      <td>0.00</td>\n",
       "      <td>1.0</td>\n",
       "      <td>1.00</td>\n",
       "      <td>1.0</td>\n",
       "    </tr>\n",
       "  </tbody>\n",
       "</table>\n",
       "</div>"
      ],
      "text/plain": [
       "              count         mean         std     min      25%     50%  \\\n",
       "MPG           314.0    23.310510    7.728652    10.0    17.00    22.0   \n",
       "Cylinders     314.0     5.477707    1.699788     3.0     4.00     4.0   \n",
       "Displacement  314.0   195.318471  104.331589    68.0   105.50   151.0   \n",
       "Horsepower    314.0   104.869427   38.096214    46.0    76.25    94.5   \n",
       "Weight        314.0  2990.251592  843.898596  1649.0  2256.50  2822.5   \n",
       "Acceleration  314.0    15.559236    2.789230     8.0    13.80    15.5   \n",
       "Model Year    314.0    75.898089    3.675642    70.0    73.00    76.0   \n",
       "Europe        314.0     0.178344    0.383413     0.0     0.00     0.0   \n",
       "Japan         314.0     0.197452    0.398712     0.0     0.00     0.0   \n",
       "USA           314.0     0.624204    0.485101     0.0     0.00     1.0   \n",
       "\n",
       "                  75%     max  \n",
       "MPG             28.95    46.6  \n",
       "Cylinders        8.00     8.0  \n",
       "Displacement   265.75   455.0  \n",
       "Horsepower     128.00   225.0  \n",
       "Weight        3608.00  5140.0  \n",
       "Acceleration    17.20    24.8  \n",
       "Model Year      79.00    82.0  \n",
       "Europe           0.00     1.0  \n",
       "Japan            0.00     1.0  \n",
       "USA              1.00     1.0  "
      ]
     },
     "execution_count": 11,
     "metadata": {},
     "output_type": "execute_result"
    }
   ],
   "source": [
    "train_dataset.describe().transpose()"
   ]
  },
  {
   "cell_type": "markdown",
   "metadata": {
    "id": "Db7Auq1yXUvh"
   },
   "source": [
    "6. Split features from labels. \n",
    "  This means, separate the target value(also called\"label\") from the features. \n",
    "  Label is the value that you will train the model to predict."
   ]
  },
  {
   "cell_type": "code",
   "execution_count": 12,
   "metadata": {
    "executionInfo": {
     "elapsed": 5,
     "status": "ok",
     "timestamp": 1663627903454,
     "user": {
      "displayName": "FLORA XU",
      "userId": "14641465521399406540"
     },
     "user_tz": 420
    },
    "id": "t2sluJdCW7jN"
   },
   "outputs": [],
   "source": [
    "train_features = train_dataset.drop(columns=['MPG']) # YOUR CODE HERE\n",
    "test_features   = test_dataset.drop(columns=['MPG'])  # YOUR CODE HERE\n",
    "\n",
    "train_labels = train_dataset['MPG'] # YOUR CODE HERE\n",
    "test_labels =   test_dataset['MPG'] # YOUR CODE HERE"
   ]
  },
  {
   "cell_type": "markdown",
   "metadata": {
    "id": "mRklxK5s388r"
   },
   "source": [
    "# Task 2 - Normalization Layer"
   ]
  },
  {
   "cell_type": "markdown",
   "metadata": {
    "id": "-ywmerQ6dSox"
   },
   "source": [
    "It is good practice to normalize features that use different scales and ranges. Although a model *might* converge without feature normalization, normalization makes training much more stable.\n",
    "\n",
    "Similar to scikit-learn, tensorflow.keras offers a list of [preprocessing layers](https://www.tensorflow.org/guide/keras/preprocessing_layers) so that you can build and export models that are truly end-to-end."
   ]
  },
  {
   "cell_type": "markdown",
   "metadata": {
    "id": "aFJ6ISropeoo"
   },
   "source": [
    "1. The Normalization layer ([`tf.keras.layers.Normalization`](https://www.tensorflow.org/api_docs/python/tf/keras/layers/Normalization) is a clean and simple way to add feature normalization into your model. The first step is to create the layer:"
   ]
  },
  {
   "cell_type": "code",
   "execution_count": 13,
   "metadata": {
    "executionInfo": {
     "elapsed": 4,
     "status": "ok",
     "timestamp": 1663627903454,
     "user": {
      "displayName": "FLORA XU",
      "userId": "14641465521399406540"
     },
     "user_tz": 420
    },
    "id": "JlC5ooJrgjQF"
   },
   "outputs": [],
   "source": [
    "normalizer = tf.keras.layers.Normalization(axis=-1) # YOUR CODE HERE"
   ]
  },
  {
   "cell_type": "markdown",
   "metadata": {
    "id": "XYA2Ap6nVOha"
   },
   "source": [
    "2. Then, fit the state of the preprocessing layer to the data by calling [`Normalization.adapt`](https://www.tensorflow.org/guide/keras/preprocessing_layers#the_adapt_method):"
   ]
  },
  {
   "cell_type": "code",
   "execution_count": 14,
   "metadata": {
    "executionInfo": {
     "elapsed": 1351,
     "status": "ok",
     "timestamp": 1663627904801,
     "user": {
      "displayName": "FLORA XU",
      "userId": "14641465521399406540"
     },
     "user_tz": 420
    },
    "id": "CrBbbjbwV91f"
   },
   "outputs": [
    {
     "name": "stderr",
     "output_type": "stream",
     "text": [
      "2022-12-12 20:21:28.914626: I tensorflow/compiler/xla/stream_executor/cuda/cuda_gpu_executor.cc:967] could not open file to read NUMA node: /sys/bus/pci/devices/0000:01:00.0/numa_node\n",
      "Your kernel may have been built without NUMA support.\n",
      "2022-12-12 20:21:28.915302: W tensorflow/compiler/xla/stream_executor/platform/default/dso_loader.cc:64] Could not load dynamic library 'libcudart.so.11.0'; dlerror: libcudart.so.11.0: cannot open shared object file: No such file or directory\n",
      "2022-12-12 20:21:28.915421: W tensorflow/compiler/xla/stream_executor/platform/default/dso_loader.cc:64] Could not load dynamic library 'libcublas.so.11'; dlerror: libcublas.so.11: cannot open shared object file: No such file or directory\n",
      "2022-12-12 20:21:28.915505: W tensorflow/compiler/xla/stream_executor/platform/default/dso_loader.cc:64] Could not load dynamic library 'libcublasLt.so.11'; dlerror: libcublasLt.so.11: cannot open shared object file: No such file or directory\n",
      "2022-12-12 20:21:28.915635: W tensorflow/compiler/xla/stream_executor/platform/default/dso_loader.cc:64] Could not load dynamic library 'libcufft.so.10'; dlerror: libcufft.so.10: cannot open shared object file: No such file or directory\n",
      "2022-12-12 20:21:28.915717: W tensorflow/compiler/xla/stream_executor/platform/default/dso_loader.cc:64] Could not load dynamic library 'libcurand.so.10'; dlerror: libcurand.so.10: cannot open shared object file: No such file or directory\n",
      "2022-12-12 20:21:28.915783: W tensorflow/compiler/xla/stream_executor/platform/default/dso_loader.cc:64] Could not load dynamic library 'libcusolver.so.11'; dlerror: libcusolver.so.11: cannot open shared object file: No such file or directory\n",
      "2022-12-12 20:21:28.915848: W tensorflow/compiler/xla/stream_executor/platform/default/dso_loader.cc:64] Could not load dynamic library 'libcusparse.so.11'; dlerror: libcusparse.so.11: cannot open shared object file: No such file or directory\n",
      "2022-12-12 20:21:28.915915: W tensorflow/compiler/xla/stream_executor/platform/default/dso_loader.cc:64] Could not load dynamic library 'libcudnn.so.8'; dlerror: libcudnn.so.8: cannot open shared object file: No such file or directory\n",
      "2022-12-12 20:21:28.916046: W tensorflow/core/common_runtime/gpu/gpu_device.cc:1934] Cannot dlopen some GPU libraries. Please make sure the missing libraries mentioned above are installed properly if you would like to use GPU. Follow the guide at https://www.tensorflow.org/install/gpu for how to download and setup the required libraries for your platform.\n",
      "Skipping registering GPU devices...\n",
      "2022-12-12 20:21:28.922104: I tensorflow/core/platform/cpu_feature_guard.cc:193] This TensorFlow binary is optimized with oneAPI Deep Neural Network Library (oneDNN) to use the following CPU instructions in performance-critical operations:  FMA\n",
      "To enable them in other operations, rebuild TensorFlow with the appropriate compiler flags.\n"
     ]
    }
   ],
   "source": [
    "normalizer.adapt(np.array(train_features)) # YOUR CODE HERE"
   ]
  },
  {
   "cell_type": "markdown",
   "metadata": {
    "id": "GqryjQ_DMMHp"
   },
   "source": [
    "We can see the feature mean and variance are stored in the layer:"
   ]
  },
  {
   "cell_type": "code",
   "execution_count": 15,
   "metadata": {
    "colab": {
     "base_uri": "https://localhost:8080/"
    },
    "executionInfo": {
     "elapsed": 7,
     "status": "ok",
     "timestamp": 1663627904801,
     "user": {
      "displayName": "FLORA XU",
      "userId": "14641465521399406540"
     },
     "user_tz": 420
    },
    "id": "lreV_KOML142",
    "outputId": "11805fe4-c849-4453-9653-e083289bc07d"
   },
   "outputs": [
    {
     "name": "stdout",
     "output_type": "stream",
     "text": [
      "feature mean: [   5.478  195.318  104.869 2990.252   15.559   75.898    0.178    0.197\n",
      "    0.624]\n",
      "\n",
      "feature variance: [     2.88   10850.413   1446.699 709896.9        7.755     13.467\n",
      "      0.147      0.158      0.235]\n"
     ]
    }
   ],
   "source": [
    "print(f'feature mean: {normalizer.mean.numpy().squeeze()}\\n')\n",
    "print(f'feature variance: {normalizer.variance.numpy().squeeze()}')"
   ]
  },
  {
   "cell_type": "markdown",
   "metadata": {
    "id": "oGWKaF9GSRuN"
   },
   "source": [
    "When the layer is called, it returns the input data, with each feature independently normalized:"
   ]
  },
  {
   "cell_type": "code",
   "execution_count": 16,
   "metadata": {
    "colab": {
     "base_uri": "https://localhost:8080/"
    },
    "executionInfo": {
     "elapsed": 302,
     "status": "ok",
     "timestamp": 1663627905100,
     "user": {
      "displayName": "FLORA XU",
      "userId": "14641465521399406540"
     },
     "user_tz": 420
    },
    "id": "2l7zFL_XWIRu",
    "outputId": "c0e053cf-43be-46b7-97d2-6384ad362072"
   },
   "outputs": [
    {
     "name": "stdout",
     "output_type": "stream",
     "text": [
      "First example: [[   4.    90.    75.  2125.    14.5   74.     0.     0.     1. ]]\n",
      "\n",
      "Normalized: [[-0.87 -1.01 -0.79 -1.03 -0.38 -0.52 -0.47 -0.5   0.78]]\n"
     ]
    }
   ],
   "source": [
    "first = np.array(train_features[:1])\n",
    "\n",
    "with np.printoptions(precision=2, suppress=True):\n",
    "    print('First example:', first)\n",
    "    print()\n",
    "    print('Normalized:', normalizer(first).numpy())"
   ]
  },
  {
   "cell_type": "markdown",
   "metadata": {
    "id": "6o3CrycBXA2s"
   },
   "source": [
    "# Task 3 - Linear Regression 📈\n",
    "\n",
    "Before building a deep neural network model, start with linear regression using all the features."
   ]
  },
  {
   "cell_type": "markdown",
   "metadata": {
    "id": "lFby9n0tnHkw"
   },
   "source": [
    "Training a model with `tf.keras` typically starts by defining the model architecture. Use a `tf.keras.Sequential` model, which [represents a sequence of steps](https://www.tensorflow.org/guide/keras/sequential_model).\n",
    "\n",
    "There are two steps in this multivariate linear regression model:\n",
    "\n",
    "- Normalize all the input features using the `tf.keras.layers.Normalization` preprocessing layer. You have defined this earlier as `normalizer`.\n",
    "- Apply a linear transformation ($y = mx+b$ where $m$ is a matrix and $b$ is a vector.) to produce one output using a linear layer ([`tf.keras.layers.Dense`](https://www.tensorflow.org/api_docs/python/tf/keras/layers/Dense)).\n",
    "\n",
    "The number of _inputs_ can either be set by the `input_shape` argument, or automatically when the model is run for the first time."
   ]
  },
  {
   "cell_type": "markdown",
   "metadata": {
    "id": "4NVlHJY2TWlC"
   },
   "source": [
    "1. Build the Keras Sequential model:"
   ]
  },
  {
   "cell_type": "code",
   "execution_count": 17,
   "metadata": {
    "executionInfo": {
     "elapsed": 15,
     "status": "ok",
     "timestamp": 1663627905101,
     "user": {
      "displayName": "FLORA XU",
      "userId": "14641465521399406540"
     },
     "user_tz": 420
    },
    "id": "c0sXM7qLlKfZ"
   },
   "outputs": [],
   "source": [
    "linear_model = tf.keras.Sequential([\n",
    "   normalizer,                   # YOUR CODE HERE\n",
    "   layers.Dense(units=1)         # YOUR CODE HERE\n",
    "])\n"
   ]
  },
  {
   "cell_type": "code",
   "execution_count": 18,
   "metadata": {
    "colab": {
     "base_uri": "https://localhost:8080/"
    },
    "executionInfo": {
     "elapsed": 168,
     "status": "ok",
     "timestamp": 1663627905255,
     "user": {
      "displayName": "FLORA XU",
      "userId": "14641465521399406540"
     },
     "user_tz": 420
    },
    "id": "_iaY0wviy0FO",
    "outputId": "57ced0ee-22c1-477d-e2de-c6dac7d67e62"
   },
   "outputs": [
    {
     "name": "stdout",
     "output_type": "stream",
     "text": [
      "Model: \"sequential\"\n",
      "_________________________________________________________________\n",
      " Layer (type)                Output Shape              Param #   \n",
      "=================================================================\n",
      " normalization (Normalizatio  (None, 9)                19        \n",
      " n)                                                              \n",
      "                                                                 \n",
      " dense (Dense)               (None, 1)                 10        \n",
      "                                                                 \n",
      "=================================================================\n",
      "Total params: 29\n",
      "Trainable params: 10\n",
      "Non-trainable params: 19\n",
      "_________________________________________________________________\n"
     ]
    }
   ],
   "source": [
    "linear_model.summary()"
   ]
  },
  {
   "cell_type": "markdown",
   "metadata": {
    "id": "eObQu9fDnXGL"
   },
   "source": [
    "2. This model will predict `'MPG'` from all features in `train_features`. Run the untrained model on the first 10 data points / rows using `Model.predict()`. The output won't be good, but notice that it has the expected shape of `(10, 1)`:"
   ]
  },
  {
   "cell_type": "code",
   "execution_count": 19,
   "metadata": {
    "colab": {
     "base_uri": "https://localhost:8080/"
    },
    "executionInfo": {
     "elapsed": 227,
     "status": "ok",
     "timestamp": 1663627905481,
     "user": {
      "displayName": "FLORA XU",
      "userId": "14641465521399406540"
     },
     "user_tz": 420
    },
    "id": "UfV1HS6bns-s",
    "outputId": "ceaa3ba8-2193-420b-f95d-25aadf685516"
   },
   "outputs": [
    {
     "name": "stdout",
     "output_type": "stream",
     "text": [
      "1/1 [==============================] - 0s 135ms/step\n"
     ]
    },
    {
     "data": {
      "text/plain": [
       "array([[ 0.499],\n",
       "       [ 1.134],\n",
       "       [-2.191],\n",
       "       [ 1.959],\n",
       "       [ 0.859],\n",
       "       [ 0.169],\n",
       "       [ 1.017],\n",
       "       [ 1.693],\n",
       "       [-0.457],\n",
       "       [-0.348]], dtype=float32)"
      ]
     },
     "execution_count": 19,
     "metadata": {},
     "output_type": "execute_result"
    }
   ],
   "source": [
    "linear_model.predict(train_features[:10])  # YOUR CODE HERE"
   ]
  },
  {
   "cell_type": "markdown",
   "metadata": {
    "id": "IFND0vL4y5OZ"
   },
   "source": [
    "3. When you call the model, its weight matrices will be built—check that the `kernel` weights (the $m$ in $y = mx + b$) have a shape of (9, 1):"
   ]
  },
  {
   "cell_type": "code",
   "execution_count": 20,
   "metadata": {
    "colab": {
     "base_uri": "https://localhost:8080/"
    },
    "executionInfo": {
     "elapsed": 5,
     "status": "ok",
     "timestamp": 1663627905652,
     "user": {
      "displayName": "FLORA XU",
      "userId": "14641465521399406540"
     },
     "user_tz": 420
    },
    "id": "QaqBYReyzBgr",
    "outputId": "ab0da762-f112-4a0a-c18c-8e272a26f8bd"
   },
   "outputs": [
    {
     "data": {
      "text/plain": [
       "<tf.Variable 'dense/kernel:0' shape=(9, 1) dtype=float32, numpy=\n",
       "array([[-0.207],\n",
       "       [-0.314],\n",
       "       [ 0.414],\n",
       "       [-0.67 ],\n",
       "       [ 0.239],\n",
       "       [ 0.742],\n",
       "       [ 0.273],\n",
       "       [-0.326],\n",
       "       [ 0.102]], dtype=float32)>"
      ]
     },
     "execution_count": 20,
     "metadata": {},
     "output_type": "execute_result"
    }
   ],
   "source": [
    "linear_model.layers[1].kernel"
   ]
  },
  {
   "cell_type": "markdown",
   "metadata": {
    "id": "CSkanJlmmFBX"
   },
   "source": [
    "4. Once the model is built, configure the training procedure using the Keras `Model.compile` method. The most important arguments to compile are the `loss` and the `optimizer`, since these define what will be optimized and how (using the `tf.keras.optimizers.Adam`).\n",
    "\n",
    "  Here's a list of built-in loss functions in [`tf.keras.losses`](https://www.tensorflow.org/api_docs/python/tf/keras/losses). For regression tasks, [common loss functions](https://towardsdatascience.com/understanding-the-3-most-common-loss-functions-for-machine-learning-regression-23e0ef3e14d3) include mean squared error (MSE) and mean absolute error (MAE). Here,  MAE is preferred such that the model is more robust against outliers. \n",
    "\n",
    "  For optimizers, gradient descent (check this video [Gradient Descent, Step-by-Step](https://www.youtube.com/watch?v=sDv4f4s2SB8) for a refresher) is the preferred way to optimize neural networks and many other machine learning algorithms. Read [an overview of graident descent optimizer algorithms](https://ruder.io/optimizing-gradient-descent/) for several popular gradient descent algorithms. Here, we use the popular [`tf.keras.optimizers.Adam`](https://www.tensorflow.org/api_docs/python/tf/keras/optimizers/Adam), and set the learning rate at 0.1 for faster learning.  "
   ]
  },
  {
   "cell_type": "code",
   "execution_count": 21,
   "metadata": {
    "executionInfo": {
     "elapsed": 3,
     "status": "ok",
     "timestamp": 1663627905652,
     "user": {
      "displayName": "FLORA XU",
      "userId": "14641465521399406540"
     },
     "user_tz": 420
    },
    "id": "JxA_3lpOm-SK"
   },
   "outputs": [],
   "source": [
    "linear_model.compile(\n",
    "    optimizer=tf.keras.optimizers.Adam(learning_rate=0.1), # YOUR CODE HERE\n",
    "    loss='mean_absolute_error' # YOUR CODE HERE\n",
    "    )"
   ]
  },
  {
   "cell_type": "markdown",
   "metadata": {
    "id": "Z3q1I9TwnRSC"
   },
   "source": [
    "5. Use Keras `Model.fit` to execute the training for 100 epochs, set the verbose to 0 to suppress logging and keep 20% of the data for validation:"
   ]
  },
  {
   "cell_type": "code",
   "execution_count": 22,
   "metadata": {
    "colab": {
     "base_uri": "https://localhost:8080/"
    },
    "executionInfo": {
     "elapsed": 23883,
     "status": "ok",
     "timestamp": 1663627929533,
     "user": {
      "displayName": "FLORA XU",
      "userId": "14641465521399406540"
     },
     "user_tz": 420
    },
    "id": "-iSrNy59nRAp",
    "outputId": "8c627877-e550-4169-ab38-4e411bdd8eea"
   },
   "outputs": [
    {
     "name": "stderr",
     "output_type": "stream",
     "text": [
      "2022/12/12 20:22:11 INFO mlflow.utils.autologging_utils: Created MLflow autologging run with ID '6a8cf6a039144237b6f57719360c84f2', which will track hyperparameters, performance metrics, model artifacts, and lineage information for the current tensorflow workflow\n",
      "/home/annrdyer/anaconda3/envs/mle-course/lib/python3.8/site-packages/keras/engine/data_adapter.py:1696: FutureWarning: The behavior of `series[i:j]` with an integer-dtype index is deprecated. In a future version, this will be treated as *label-based* indexing, consistent with e.g. `series[i]` lookups. To retain the old behavior, use `series.iloc[i:j]`. To get the future behavior, use `series.loc[i:j]`.\n",
      "  return t[start:end]\n",
      "2022/12/12 20:22:21 WARNING mlflow.tensorflow: Failed to infer model signature: could not sample data to infer model signature: Cannot log input example or model signature for input with type <class 'pandas.core.frame.DataFrame'>. TensorFlow Keras autologging can only log input examples and model signatures for the following input types: numpy.ndarray, dict[string -> numpy.ndarray], tensorflow.keras.utils.Sequence, and tensorflow.data.Dataset (TensorFlow >= 2.1.0 required)\n",
      "WARNING:absl:Found untraced functions such as _update_step_xla while saving (showing 1 of 1). These functions will not be directly callable after loading.\n"
     ]
    },
    {
     "name": "stdout",
     "output_type": "stream",
     "text": [
      "INFO:tensorflow:Assets written to: /tmp/tmp_lpeh_7b/model/data/model/assets\n"
     ]
    },
    {
     "name": "stderr",
     "output_type": "stream",
     "text": [
      "INFO:tensorflow:Assets written to: /tmp/tmp_lpeh_7b/model/data/model/assets\n",
      "2022/12/12 20:22:31 WARNING mlflow.utils.autologging_utils: MLflow autologging encountered a warning: \"/home/annrdyer/anaconda3/envs/mle-course/lib/python3.8/site-packages/_distutils_hack/__init__.py:33: UserWarning: Setuptools is replacing distutils.\"\n"
     ]
    },
    {
     "name": "stdout",
     "output_type": "stream",
     "text": [
      "CPU times: user 13.8 s, sys: 1.96 s, total: 15.8 s\n",
      "Wall time: 20 s\n"
     ]
    }
   ],
   "source": [
    "%%time\n",
    "history = linear_model.fit(\n",
    "            train_features,\n",
    "            train_labels,\n",
    "            epochs=100,\n",
    "            verbose=0,\n",
    "            validation_split = 0.2)\n",
    "# YOUR CODE HERE"
   ]
  },
  {
   "cell_type": "markdown",
   "metadata": {
    "id": "tQm3pc0FYPQB"
   },
   "source": [
    "6. Visualize the model's training progress using the stats stored in the `history` object:"
   ]
  },
  {
   "cell_type": "code",
   "execution_count": 23,
   "metadata": {
    "colab": {
     "base_uri": "https://localhost:8080/",
     "height": 201
    },
    "executionInfo": {
     "elapsed": 9,
     "status": "ok",
     "timestamp": 1663627929533,
     "user": {
      "displayName": "FLORA XU",
      "userId": "14641465521399406540"
     },
     "user_tz": 420
    },
    "id": "YCAwD_y4AdC3",
    "outputId": "a246154a-c09b-488c-84b9-465b3fd09525"
   },
   "outputs": [
    {
     "data": {
      "text/html": [
       "<div>\n",
       "<style scoped>\n",
       "    .dataframe tbody tr th:only-of-type {\n",
       "        vertical-align: middle;\n",
       "    }\n",
       "\n",
       "    .dataframe tbody tr th {\n",
       "        vertical-align: top;\n",
       "    }\n",
       "\n",
       "    .dataframe thead th {\n",
       "        text-align: right;\n",
       "    }\n",
       "</style>\n",
       "<table border=\"1\" class=\"dataframe\">\n",
       "  <thead>\n",
       "    <tr style=\"text-align: right;\">\n",
       "      <th></th>\n",
       "      <th>loss</th>\n",
       "      <th>val_loss</th>\n",
       "      <th>epoch</th>\n",
       "    </tr>\n",
       "  </thead>\n",
       "  <tbody>\n",
       "    <tr>\n",
       "      <th>95</th>\n",
       "      <td>2.472880</td>\n",
       "      <td>2.476647</td>\n",
       "      <td>95</td>\n",
       "    </tr>\n",
       "    <tr>\n",
       "      <th>96</th>\n",
       "      <td>2.492559</td>\n",
       "      <td>2.476232</td>\n",
       "      <td>96</td>\n",
       "    </tr>\n",
       "    <tr>\n",
       "      <th>97</th>\n",
       "      <td>2.486254</td>\n",
       "      <td>2.458307</td>\n",
       "      <td>97</td>\n",
       "    </tr>\n",
       "    <tr>\n",
       "      <th>98</th>\n",
       "      <td>2.487697</td>\n",
       "      <td>2.500453</td>\n",
       "      <td>98</td>\n",
       "    </tr>\n",
       "    <tr>\n",
       "      <th>99</th>\n",
       "      <td>2.470826</td>\n",
       "      <td>2.464957</td>\n",
       "      <td>99</td>\n",
       "    </tr>\n",
       "  </tbody>\n",
       "</table>\n",
       "</div>"
      ],
      "text/plain": [
       "        loss  val_loss  epoch\n",
       "95  2.472880  2.476647     95\n",
       "96  2.492559  2.476232     96\n",
       "97  2.486254  2.458307     97\n",
       "98  2.487697  2.500453     98\n",
       "99  2.470826  2.464957     99"
      ]
     },
     "execution_count": 23,
     "metadata": {},
     "output_type": "execute_result"
    }
   ],
   "source": [
    "hist = pd.DataFrame(history.history)\n",
    "hist['epoch'] = history.epoch\n",
    "hist.tail()"
   ]
  },
  {
   "cell_type": "code",
   "execution_count": 24,
   "metadata": {
    "executionInfo": {
     "elapsed": 6,
     "status": "ok",
     "timestamp": 1663627929534,
     "user": {
      "displayName": "FLORA XU",
      "userId": "14641465521399406540"
     },
     "user_tz": 420
    },
    "id": "9E54UoZunqhc"
   },
   "outputs": [],
   "source": [
    "def plot_loss(history):\n",
    "    plt.plot(history.history['loss'], label='loss')\n",
    "    plt.plot(history.history['val_loss'], label='val_loss')\n",
    "    plt.ylim([0, 10])\n",
    "    plt.xlabel('Epoch')\n",
    "    plt.ylabel('Error [MPG]')\n",
    "    plt.legend()\n",
    "    plt.grid(True)"
   ]
  },
  {
   "cell_type": "markdown",
   "metadata": {
    "id": "fk81ixIgFcEU"
   },
   "source": [
    "Use `plot_loss(history)` provided to visualize the progression in loss function for training and validation data sets. "
   ]
  },
  {
   "cell_type": "code",
   "execution_count": 25,
   "metadata": {
    "colab": {
     "base_uri": "https://localhost:8080/",
     "height": 283
    },
    "executionInfo": {
     "elapsed": 243,
     "status": "ok",
     "timestamp": 1663627929772,
     "user": {
      "displayName": "FLORA XU",
      "userId": "14641465521399406540"
     },
     "user_tz": 420
    },
    "id": "yYsQYrIZyqjz",
    "outputId": "c0c491bb-1b3f-411b-b4dc-8db939104824"
   },
   "outputs": [
    {
     "data": {
      "image/png": "[encoded data removed]",
      "text/plain": [
       "<Figure size 640x480 with 1 Axes>"
      ]
     },
     "metadata": {},
     "output_type": "display_data"
    }
   ],
   "source": [
    "plot_loss(history)  # YOUR CODE HERE"
   ]
  },
  {
   "cell_type": "markdown",
   "metadata": {
    "id": "CMNrt8X2ebXd"
   },
   "source": [
    "7. Collect the results on the test set for later using [`Model.evaluate()`](https://www.tensorflow.org/api_docs/python/tf/keras/Model#evaluate)"
   ]
  },
  {
   "cell_type": "code",
   "execution_count": 26,
   "metadata": {
    "executionInfo": {
     "elapsed": 166,
     "status": "ok",
     "timestamp": 1663627929935,
     "user": {
      "displayName": "FLORA XU",
      "userId": "14641465521399406540"
     },
     "user_tz": 420
    },
    "id": "kDZ8EvNYrDtx"
   },
   "outputs": [],
   "source": [
    "test_results = {}\n",
    "\n",
    "test_results['linear_model'] = linear_model.evaluate(test_features, test_labels, verbose=0)\n"
   ]
  },
  {
   "cell_type": "code",
   "execution_count": 27,
   "metadata": {
    "colab": {
     "base_uri": "https://localhost:8080/"
    },
    "executionInfo": {
     "elapsed": 4,
     "status": "ok",
     "timestamp": 1663627929935,
     "user": {
      "displayName": "FLORA XU",
      "userId": "14641465521399406540"
     },
     "user_tz": 420
    },
    "id": "eh0trI_zGCT1",
    "outputId": "6b6586a7-8cbd-40cf-f223-3b0cc82a60b6"
   },
   "outputs": [
    {
     "data": {
      "text/plain": [
       "{'linear_model': 2.4336984157562256}"
      ]
     },
     "execution_count": 27,
     "metadata": {},
     "output_type": "execute_result"
    }
   ],
   "source": [
    "test_results"
   ]
  },
  {
   "cell_type": "markdown",
   "metadata": {
    "id": "SmjdzxKzEu1-"
   },
   "source": [
    "# Task 4 - Regression with a Deep Neural Network (DNN)"
   ]
  },
  {
   "cell_type": "markdown",
   "metadata": {
    "id": "DT_aHPsrzO1t"
   },
   "source": [
    "You just implemented a linear model for multiple inputs. Now, you are ready to implement multiple-input DNN models.\n",
    "\n",
    "The code is very similar except the model is expanded to include some \"hidden\" **non-linear** layers. The name \"hidden\" here just means not directly connected to the inputs or outputs."
   ]
  },
  {
   "cell_type": "markdown",
   "metadata": {
    "id": "6SWtkIjhrZwa"
   },
   "source": [
    "* The normalization layer, as before (with `normalizer` for a multiple-input model).\n",
    "* Two hidden, non-linear, [`Dense`](https://www.tensorflow.org/api_docs/python/tf/keras/layers/Dense) layers with the ReLU (`relu`) activation function nonlinearity. One way is to set parameter `activation` inside `Dense` Set the number of neurons at each layer to be 64. \n",
    "* A linear `Dense` single-output layer. "
   ]
  },
  {
   "cell_type": "markdown",
   "metadata": {
    "id": "CQ6btF_xJPpW"
   },
   "source": [
    "\n",
    "\n",
    "1. Include the model and `compile` method in the `build_and_compile_model` function below. "
   ]
  },
  {
   "cell_type": "code",
   "execution_count": 28,
   "metadata": {
    "executionInfo": {
     "elapsed": 3,
     "status": "ok",
     "timestamp": 1663627929935,
     "user": {
      "displayName": "FLORA XU",
      "userId": "14641465521399406540"
     },
     "user_tz": 420
    },
    "id": "c26juK7ZG8j-"
   },
   "outputs": [],
   "source": [
    "def build_and_compile_model(norm):\n",
    "    model = tf.keras.Sequential([\n",
    "        norm, # YOUR CODE HERE\n",
    "        layers.Dense(64, activation='relu'),\n",
    "        layers.Dense(64, activation='relu'),\n",
    "        layers.Dense(1)\n",
    "    ])\n",
    "\n",
    "    model.compile(loss='mean_absolute_error',\n",
    "                optimizer=tf.keras.optimizers.Adam())\n",
    "    return model\n"
   ]
  },
  {
   "cell_type": "markdown",
   "metadata": {
    "id": "xvu9gtxTZR5V"
   },
   "source": [
    "2. Create a DNN model with `normalizer` (defined earlier) as the normalization layer:\n",
    "\n"
   ]
  },
  {
   "cell_type": "code",
   "execution_count": 29,
   "metadata": {
    "executionInfo": {
     "elapsed": 2,
     "status": "ok",
     "timestamp": 1663627929935,
     "user": {
      "displayName": "FLORA XU",
      "userId": "14641465521399406540"
     },
     "user_tz": 420
    },
    "id": "cGbPb-PHGbhs"
   },
   "outputs": [],
   "source": [
    "dnn_model = build_and_compile_model(normalizer) # YOUR CODE HERE"
   ]
  },
  {
   "cell_type": "markdown",
   "metadata": {
    "id": "Sj49Og4YGULr"
   },
   "source": [
    "3. Inspect the model using `Model.summary()`. This model has quite a few more trainable parameters than the linear models:"
   ]
  },
  {
   "cell_type": "code",
   "execution_count": 30,
   "metadata": {
    "colab": {
     "base_uri": "https://localhost:8080/"
    },
    "executionInfo": {
     "elapsed": 15,
     "status": "ok",
     "timestamp": 1663627930137,
     "user": {
      "displayName": "FLORA XU",
      "userId": "14641465521399406540"
     },
     "user_tz": 420
    },
    "id": "ReAD0n6MsFK-",
    "outputId": "0bea914c-646a-404e-8f02-a691f300c700"
   },
   "outputs": [
    {
     "name": "stdout",
     "output_type": "stream",
     "text": [
      "Model: \"sequential_1\"\n",
      "_________________________________________________________________\n",
      " Layer (type)                Output Shape              Param #   \n",
      "=================================================================\n",
      " normalization (Normalizatio  (None, 9)                19        \n",
      " n)                                                              \n",
      "                                                                 \n",
      " dense_1 (Dense)             (None, 64)                640       \n",
      "                                                                 \n",
      " dense_2 (Dense)             (None, 64)                4160      \n",
      "                                                                 \n",
      " dense_3 (Dense)             (None, 1)                 65        \n",
      "                                                                 \n",
      "=================================================================\n",
      "Total params: 4,884\n",
      "Trainable params: 4,865\n",
      "Non-trainable params: 19\n",
      "_________________________________________________________________\n"
     ]
    }
   ],
   "source": [
    "dnn_model.summary()  # YOUR CODE HERE"
   ]
  },
  {
   "cell_type": "markdown",
   "metadata": {
    "id": "0-qWCsh6DlyH"
   },
   "source": [
    "4. Train the model with Keras `Model.fit`:"
   ]
  },
  {
   "cell_type": "code",
   "execution_count": 31,
   "metadata": {
    "colab": {
     "base_uri": "https://localhost:8080/"
    },
    "executionInfo": {
     "elapsed": 13581,
     "status": "ok",
     "timestamp": 1663627943707,
     "user": {
      "displayName": "FLORA XU",
      "userId": "14641465521399406540"
     },
     "user_tz": 420
    },
    "id": "sD7qHCmNIOY0",
    "outputId": "c873375a-b7bc-4054-e7f4-2e2a87b288ca"
   },
   "outputs": [
    {
     "name": "stderr",
     "output_type": "stream",
     "text": [
      "2022/12/12 20:23:12 INFO mlflow.utils.autologging_utils: Created MLflow autologging run with ID 'b4bcbd81fd8e40899b067d5cf5d84f1b', which will track hyperparameters, performance metrics, model artifacts, and lineage information for the current tensorflow workflow\n",
      "/home/annrdyer/anaconda3/envs/mle-course/lib/python3.8/site-packages/keras/engine/data_adapter.py:1696: FutureWarning: The behavior of `series[i:j]` with an integer-dtype index is deprecated. In a future version, this will be treated as *label-based* indexing, consistent with e.g. `series[i]` lookups. To retain the old behavior, use `series.iloc[i:j]`. To get the future behavior, use `series.loc[i:j]`.\n",
      "  return t[start:end]\n",
      "2022/12/12 20:23:22 WARNING mlflow.tensorflow: Failed to infer model signature: could not sample data to infer model signature: Cannot log input example or model signature for input with type <class 'pandas.core.frame.DataFrame'>. TensorFlow Keras autologging can only log input examples and model signatures for the following input types: numpy.ndarray, dict[string -> numpy.ndarray], tensorflow.keras.utils.Sequence, and tensorflow.data.Dataset (TensorFlow >= 2.1.0 required)\n",
      "WARNING:absl:Found untraced functions such as _update_step_xla while saving (showing 1 of 1). These functions will not be directly callable after loading.\n"
     ]
    },
    {
     "name": "stdout",
     "output_type": "stream",
     "text": [
      "INFO:tensorflow:Assets written to: /tmp/tmp79732dh9/model/data/model/assets\n"
     ]
    },
    {
     "name": "stderr",
     "output_type": "stream",
     "text": [
      "INFO:tensorflow:Assets written to: /tmp/tmp79732dh9/model/data/model/assets\n"
     ]
    },
    {
     "name": "stdout",
     "output_type": "stream",
     "text": [
      "CPU times: user 13.3 s, sys: 2.06 s, total: 15.4 s\n",
      "Wall time: 18.8 s\n"
     ]
    }
   ],
   "source": [
    "%%time\n",
    "history = dnn_model.fit(\n",
    "    train_features,\n",
    "    train_labels,\n",
    "    validation_split=0.2,\n",
    "    verbose=0, epochs=100)"
   ]
  },
  {
   "cell_type": "markdown",
   "metadata": {
    "id": "dArGGxHxcKjN"
   },
   "source": [
    "5. Visualize the model's training progress using the stats stored in the history object. "
   ]
  },
  {
   "cell_type": "code",
   "execution_count": 32,
   "metadata": {
    "colab": {
     "base_uri": "https://localhost:8080/",
     "height": 283
    },
    "executionInfo": {
     "elapsed": 260,
     "status": "ok",
     "timestamp": 1663627943959,
     "user": {
      "displayName": "FLORA XU",
      "userId": "14641465521399406540"
     },
     "user_tz": 420
    },
    "id": "NcF6UWjdCU8T",
    "outputId": "874a650c-e034-4ab3-932c-83d17a67288c"
   },
   "outputs": [
    {
     "data": {
      "image/png": "[encoded data removed]",
      "text/plain": [
       "<Figure size 640x480 with 1 Axes>"
      ]
     },
     "metadata": {},
     "output_type": "display_data"
    }
   ],
   "source": [
    "plot_loss(history)"
   ]
  },
  {
   "cell_type": "markdown",
   "metadata": {
    "id": "lRIDHn59LTax"
   },
   "source": [
    "Do you think the DNN model is overfitting? What gives away? \n",
    "\n",
    "The DNN model is slightly overfitting - the validation loss has flatlined starting at 40 epochs. If it was significantly overfitting the loss would be gradually increasing.  \n",
    "\n",
    "*YOUR ANSWER HERE*"
   ]
  },
  {
   "cell_type": "markdown",
   "metadata": {
    "id": "9dhMN7IUM12Q"
   },
   "source": [
    "6. Let's save the results for later comparison."
   ]
  },
  {
   "cell_type": "code",
   "execution_count": 33,
   "metadata": {
    "executionInfo": {
     "elapsed": 9,
     "status": "ok",
     "timestamp": 1663627943959,
     "user": {
      "displayName": "FLORA XU",
      "userId": "14641465521399406540"
     },
     "user_tz": 420
    },
    "id": "bJjM0dU52XtN"
   },
   "outputs": [],
   "source": [
    "test_results['dnn_model'] = dnn_model.evaluate(test_features, test_labels, verbose=0)"
   ]
  },
  {
   "cell_type": "markdown",
   "metadata": {
    "id": "uiCucdPLfMkZ"
   },
   "source": [
    "# Task 5 - Make Predictions 🔮"
   ]
  },
  {
   "cell_type": "markdown",
   "metadata": {
    "id": "rDf1xebEfWBw"
   },
   "source": [
    "1. Since both models have been trained, we can review their test set performance:"
   ]
  },
  {
   "cell_type": "code",
   "execution_count": 34,
   "metadata": {
    "colab": {
     "base_uri": "https://localhost:8080/",
     "height": 109
    },
    "executionInfo": {
     "elapsed": 9,
     "status": "ok",
     "timestamp": 1663627943960,
     "user": {
      "displayName": "FLORA XU",
      "userId": "14641465521399406540"
     },
     "user_tz": 420
    },
    "id": "e5_ooufM5iH2",
    "outputId": "6979b2fe-dd27-4d67-cb54-d59ac33b2543"
   },
   "outputs": [
    {
     "data": {
      "text/html": [
       "<div>\n",
       "<style scoped>\n",
       "    .dataframe tbody tr th:only-of-type {\n",
       "        vertical-align: middle;\n",
       "    }\n",
       "\n",
       "    .dataframe tbody tr th {\n",
       "        vertical-align: top;\n",
       "    }\n",
       "\n",
       "    .dataframe thead th {\n",
       "        text-align: right;\n",
       "    }\n",
       "</style>\n",
       "<table border=\"1\" class=\"dataframe\">\n",
       "  <thead>\n",
       "    <tr style=\"text-align: right;\">\n",
       "      <th></th>\n",
       "      <th>Mean absolute error [MPG]</th>\n",
       "    </tr>\n",
       "  </thead>\n",
       "  <tbody>\n",
       "    <tr>\n",
       "      <th>linear_model</th>\n",
       "      <td>2.433698</td>\n",
       "    </tr>\n",
       "    <tr>\n",
       "      <th>dnn_model</th>\n",
       "      <td>1.631910</td>\n",
       "    </tr>\n",
       "  </tbody>\n",
       "</table>\n",
       "</div>"
      ],
      "text/plain": [
       "              Mean absolute error [MPG]\n",
       "linear_model                   2.433698\n",
       "dnn_model                      1.631910"
      ]
     },
     "execution_count": 34,
     "metadata": {},
     "output_type": "execute_result"
    }
   ],
   "source": [
    "pd.DataFrame(test_results, index=['Mean absolute error [MPG]']).T"
   ]
  },
  {
   "cell_type": "markdown",
   "metadata": {
    "id": "DABIVzsCf-QI"
   },
   "source": [
    "These results match the validation error observed during training."
   ]
  },
  {
   "cell_type": "markdown",
   "metadata": {
    "id": "ft603OzXuEZC"
   },
   "source": [
    "2. We can now make predictions with the `dnn_model` on the test set using Keras `Model.predict` and review the loss. Use `.flatten()`."
   ]
  },
  {
   "cell_type": "code",
   "execution_count": 35,
   "metadata": {
    "colab": {
     "base_uri": "https://localhost:8080/",
     "height": 283
    },
    "executionInfo": {
     "elapsed": 395,
     "status": "ok",
     "timestamp": 1663627944348,
     "user": {
      "displayName": "FLORA XU",
      "userId": "14641465521399406540"
     },
     "user_tz": 420
    },
    "id": "Xe7RXH3N3CWU",
    "outputId": "14641962-5806-41a4-f78f-e3113ecb326f"
   },
   "outputs": [
    {
     "name": "stdout",
     "output_type": "stream",
     "text": [
      "3/3 [==============================] - 0s 4ms/step\n"
     ]
    },
    {
     "data": {
      "image/png": "[encoded data removed]",
      "text/plain": [
       "<Figure size 640x480 with 1 Axes>"
      ]
     },
     "metadata": {},
     "output_type": "display_data"
    }
   ],
   "source": [
    "test_predictions = dnn_model.predict(test_features).flatten()   # YOUR CODE HERE\n",
    "\n",
    "a = plt.axes(aspect='equal')\n",
    "plt.scatter(test_labels, test_predictions)\n",
    "plt.xlabel('True Values [MPG]')\n",
    "plt.ylabel('Predictions [MPG]')\n",
    "lims = [0, 50]\n",
    "plt.xlim(lims)\n",
    "plt.ylim(lims)\n",
    "_ = plt.plot(lims, lims)\n"
   ]
  },
  {
   "cell_type": "markdown",
   "metadata": {
    "id": "19wyogbOSU5t"
   },
   "source": [
    "3. It appears that the model predicts reasonably well. Now, check the error distribution:"
   ]
  },
  {
   "cell_type": "code",
   "execution_count": 36,
   "metadata": {
    "colab": {
     "base_uri": "https://localhost:8080/",
     "height": 278
    },
    "executionInfo": {
     "elapsed": 178,
     "status": "ok",
     "timestamp": 1663627944523,
     "user": {
      "displayName": "FLORA XU",
      "userId": "14641465521399406540"
     },
     "user_tz": 420
    },
    "id": "f-OHX4DiXd8x",
    "outputId": "ab0d5339-72a8-4e8c-d48d-4af43a83515c"
   },
   "outputs": [
    {
     "data": {
      "image/png": "[encoded data removed]",
      "text/plain": [
       "<Figure size 640x480 with 1 Axes>"
      ]
     },
     "metadata": {},
     "output_type": "display_data"
    }
   ],
   "source": [
    "error = test_predictions - test_labels    # YOUR CODE HERE\n",
    "plt.hist(error, bins=25)\n",
    "plt.xlabel('Prediction Error [MPG]')\n",
    "_ = plt.ylabel('Count')"
   ]
  },
  {
   "cell_type": "markdown",
   "metadata": {
    "id": "KSyaHUfDT-mZ"
   },
   "source": [
    "4. Save it for later use with `Model.save`:"
   ]
  },
  {
   "cell_type": "code",
   "execution_count": 37,
   "metadata": {
    "executionInfo": {
     "elapsed": 1155,
     "status": "ok",
     "timestamp": 1663627945675,
     "user": {
      "displayName": "FLORA XU",
      "userId": "14641465521399406540"
     },
     "user_tz": 420
    },
    "id": "4-WwLlmfT-mb"
   },
   "outputs": [
    {
     "name": "stderr",
     "output_type": "stream",
     "text": [
      "WARNING:absl:Found untraced functions such as _update_step_xla while saving (showing 1 of 1). These functions will not be directly callable after loading.\n"
     ]
    },
    {
     "name": "stdout",
     "output_type": "stream",
     "text": [
      "INFO:tensorflow:Assets written to: dnn_model/assets\n"
     ]
    },
    {
     "name": "stderr",
     "output_type": "stream",
     "text": [
      "INFO:tensorflow:Assets written to: dnn_model/assets\n"
     ]
    }
   ],
   "source": [
    "dnn_model.save('dnn_model')"
   ]
  },
  {
   "cell_type": "markdown",
   "metadata": {
    "id": "Benlnl8UT-me"
   },
   "source": [
    "5. Reload the model with `Model.load_model`; it gives identical output:"
   ]
  },
  {
   "cell_type": "code",
   "execution_count": 38,
   "metadata": {
    "executionInfo": {
     "elapsed": 608,
     "status": "ok",
     "timestamp": 1663627946277,
     "user": {
      "displayName": "FLORA XU",
      "userId": "14641465521399406540"
     },
     "user_tz": 420
    },
    "id": "dyyyj2zVT-mf"
   },
   "outputs": [],
   "source": [
    "reloaded = tf.keras.models.load_model('dnn_model')  # YOUR CODE HERE\n",
    "\n",
    "test_results['reloaded'] = reloaded.evaluate(\n",
    "    test_features, test_labels, verbose=0)"
   ]
  },
  {
   "cell_type": "code",
   "execution_count": 39,
   "metadata": {
    "colab": {
     "base_uri": "https://localhost:8080/",
     "height": 140
    },
    "executionInfo": {
     "elapsed": 9,
     "status": "ok",
     "timestamp": 1663627946278,
     "user": {
      "displayName": "FLORA XU",
      "userId": "14641465521399406540"
     },
     "user_tz": 420
    },
    "id": "f_GchJ2tg-2o",
    "outputId": "1173b004-23ab-4104-e789-f2a43e8fae7f"
   },
   "outputs": [
    {
     "data": {
      "text/html": [
       "<div>\n",
       "<style scoped>\n",
       "    .dataframe tbody tr th:only-of-type {\n",
       "        vertical-align: middle;\n",
       "    }\n",
       "\n",
       "    .dataframe tbody tr th {\n",
       "        vertical-align: top;\n",
       "    }\n",
       "\n",
       "    .dataframe thead th {\n",
       "        text-align: right;\n",
       "    }\n",
       "</style>\n",
       "<table border=\"1\" class=\"dataframe\">\n",
       "  <thead>\n",
       "    <tr style=\"text-align: right;\">\n",
       "      <th></th>\n",
       "      <th>Mean absolute error [MPG]</th>\n",
       "    </tr>\n",
       "  </thead>\n",
       "  <tbody>\n",
       "    <tr>\n",
       "      <th>linear_model</th>\n",
       "      <td>2.433698</td>\n",
       "    </tr>\n",
       "    <tr>\n",
       "      <th>dnn_model</th>\n",
       "      <td>1.631910</td>\n",
       "    </tr>\n",
       "    <tr>\n",
       "      <th>reloaded</th>\n",
       "      <td>1.631910</td>\n",
       "    </tr>\n",
       "  </tbody>\n",
       "</table>\n",
       "</div>"
      ],
      "text/plain": [
       "              Mean absolute error [MPG]\n",
       "linear_model                   2.433698\n",
       "dnn_model                      1.631910\n",
       "reloaded                       1.631910"
      ]
     },
     "execution_count": 39,
     "metadata": {},
     "output_type": "execute_result"
    }
   ],
   "source": [
    "pd.DataFrame(test_results, index=['Mean absolute error [MPG]']).T"
   ]
  },
  {
   "cell_type": "markdown",
   "metadata": {
    "id": "jKeDqQVlgEvL"
   },
   "source": [
    "# Task 6 - Nonlinearity"
   ]
  },
  {
   "cell_type": "markdown",
   "metadata": {
    "id": "bi4qB9oDPU4j"
   },
   "source": [
    "We mentioned that the `relu` activation function introduce non-linearity; let's visualize it. Since there are six numerical features and 1 categorical features, it is impossible to plot all the dimensions on a 2D plot; we need to simplify/isolate it. \n",
    "\n",
    "Note: in this task, code is provided; the focus in on understanding. "
   ]
  },
  {
   "cell_type": "markdown",
   "metadata": {
    "id": "0WZj2vEGQwOL"
   },
   "source": [
    "1. We focus on the relationship between feature `Displacement` and target `MPG`. \n",
    "  \n",
    "  To do so, create a new dataset of the same size as `train_features`, but all other features are set at their median values; then set the `Displacement` between 0 and 500. "
   ]
  },
  {
   "cell_type": "code",
   "execution_count": 40,
   "metadata": {
    "executionInfo": {
     "elapsed": 6,
     "status": "ok",
     "timestamp": 1663627946278,
     "user": {
      "displayName": "FLORA XU",
      "userId": "14641465521399406540"
     },
     "user_tz": 420
    },
    "id": "nXcntGZv-CeV"
   },
   "outputs": [],
   "source": [
    "fake = np.outer(np.ones(train_features.shape[0]), train_features.median())\n",
    "fake = pd.DataFrame(fake, columns = train_features.columns)\n",
    "fake.Displacement = np.linspace(0, 500, train_features.shape[0])"
   ]
  },
  {
   "cell_type": "markdown",
   "metadata": {
    "id": "zwYXI7n1VIF3"
   },
   "source": [
    "2. Create a plotting function to:\n",
    "\n",
    "    a) visualize real values between `Displacement` and `MPG` from the training dataset in scatter plot \n",
    "    \n",
    "    b) overlay the predicted MPG from Displacement varying from 0 to 500, but holding all other features constant. "
   ]
  },
  {
   "cell_type": "code",
   "execution_count": 41,
   "metadata": {
    "executionInfo": {
     "elapsed": 5,
     "status": "ok",
     "timestamp": 1663627946278,
     "user": {
      "displayName": "FLORA XU",
      "userId": "14641465521399406540"
     },
     "user_tz": 420
    },
    "id": "zXDFyU4v-mak"
   },
   "outputs": [],
   "source": [
    "def plot_displacement(x, y):\n",
    "    plt.scatter(train_features['Displacement'], train_labels, label='Data')\n",
    "    plt.plot(x, y, color='k', label='Predictions')\n",
    "    plt.xlabel('Displacement')\n",
    "    plt.ylabel('MPG')\n",
    "    plt.legend()"
   ]
  },
  {
   "cell_type": "markdown",
   "metadata": {
    "id": "nLXZ7QsmVl_i"
   },
   "source": [
    "3. Visualize predicted MPG using the linear model."
   ]
  },
  {
   "cell_type": "code",
   "execution_count": 42,
   "metadata": {
    "colab": {
     "base_uri": "https://localhost:8080/",
     "height": 278
    },
    "executionInfo": {
     "elapsed": 322,
     "status": "ok",
     "timestamp": 1663627946595,
     "user": {
      "displayName": "FLORA XU",
      "userId": "14641465521399406540"
     },
     "user_tz": 420
    },
    "id": "Q0M1mhutB9YQ",
    "outputId": "0c4bc7f0-bdc0-45a8-bd4e-9fc7bfdd9d31"
   },
   "outputs": [
    {
     "data": {
      "image/png": "[encoded data removed]",
      "text/plain": [
       "<Figure size 640x480 with 1 Axes>"
      ]
     },
     "metadata": {},
     "output_type": "display_data"
    }
   ],
   "source": [
    "plot_displacement(fake.Displacement, linear_model(fake))"
   ]
  },
  {
   "cell_type": "markdown",
   "metadata": {
    "id": "S6Iw161_VvsP"
   },
   "source": [
    "4. Visualize predicted MPG using the neural network model. Do you see an improvement/non-linearity from the linear model? \n",
    "\n",
    "Yes - the DNN fits the data better because it can fit a curved (nonlinear) line."
   ]
  },
  {
   "cell_type": "code",
   "execution_count": 43,
   "metadata": {
    "colab": {
     "base_uri": "https://localhost:8080/",
     "height": 278
    },
    "executionInfo": {
     "elapsed": 363,
     "status": "ok",
     "timestamp": 1663627946953,
     "user": {
      "displayName": "FLORA XU",
      "userId": "14641465521399406540"
     },
     "user_tz": 420
    },
    "id": "fXe9lxlvBWbk",
    "outputId": "beb9db1d-4302-44bc-bb9c-f006730cc556"
   },
   "outputs": [
    {
     "name": "stdout",
     "output_type": "stream",
     "text": [
      "10/10 [==============================] - 0s 4ms/step\n"
     ]
    },
    {
     "data": {
      "image/png": "[encoded data removed]",
      "text/plain": [
       "<Figure size 640x480 with 1 Axes>"
      ]
     },
     "metadata": {},
     "output_type": "display_data"
    }
   ],
   "source": [
    "plot_displacement(fake.Displacement, dnn_model.predict(fake))"
   ]
  },
  {
   "cell_type": "markdown",
   "metadata": {
    "id": "pXWsMH5gR5pE"
   },
   "source": [
    "5. What are the other activation functions? Check the list of [activations](https://www.tensorflow.org/api_docs/python/tf/keras/activations). \n",
    "  \n",
    "  Optional. Modify the DNN model with a different activation function, and fit it on the data; does it perform better? "
   ]
  },
  {
   "cell_type": "markdown",
   "metadata": {
    "id": "vgGQuV-yqYZH"
   },
   "source": [
    "6. Overfitting is a common problem for DNN models, how should we deal with it? Check [Regularizers](https://www.tensorflow.org/api_docs/python/tf/keras/regularizers) on tf.keras. Any other techiniques that are invented for neural networks?"
   ]
  },
  {
   "cell_type": "markdown",
   "metadata": {
    "id": "iP8i8p3HrfdN"
   },
   "source": [
    "# Task 7 - MLflow Tracking"
   ]
  },
  {
   "cell_type": "markdown",
   "metadata": {
    "id": "saYwy3qTv7Sm"
   },
   "source": [
    "In this task, we briefly explore [MLflow Tracking](https://www.mlflow.org/docs/latest/tracking.html#tracking), one of four primary functions that MLflow offers for managing the end-to-end machine learning lifecycle. We will access the information runs programmatically in python and then set up the MLflow UI for easy interaction."
   ]
  },
  {
   "cell_type": "markdown",
   "metadata": {
    "id": "85HHzfclv6hp"
   },
   "source": [
    "1. Experiments.\n",
    "\n",
    "    MLflow Tracking is organized around the concept of `runs`, which are executions of some piece of modeling code; and runs are organized into experiments. \n",
    "\n",
    "    We set the auto logging in the beginning, we can verify that\n",
    "    - there is one experiment\n",
    "    - its name is `0`\n",
    "    - all of its artifacts are stored at `file:///content/mlruns/0` in Google Drive."
   ]
  },
  {
   "cell_type": "code",
   "execution_count": 44,
   "metadata": {
    "colab": {
     "base_uri": "https://localhost:8080/"
    },
    "executionInfo": {
     "elapsed": 23,
     "status": "ok",
     "timestamp": 1663627946953,
     "user": {
      "displayName": "FLORA XU",
      "userId": "14641465521399406540"
     },
     "user_tz": 420
    },
    "id": "PetDDBPzrpNN",
    "outputId": "a84006fa-aca2-4f33-c86e-19e3dbd58381"
   },
   "outputs": [
    {
     "data": {
      "text/plain": [
       "[<Experiment: artifact_location='file:///home/annrdyer/ann_repo/assignments/week-07-intro-dl/nb/mlruns/0', creation_time=1670794580531, experiment_id='0', last_update_time=1670794580531, lifecycle_stage='active', name='Default', tags={}>]"
      ]
     },
     "execution_count": 44,
     "metadata": {},
     "output_type": "execute_result"
    }
   ],
   "source": [
    "from mlflow import MlflowClient\n",
    "client = MlflowClient()\n",
    "client.search_experiments() "
   ]
  },
  {
   "cell_type": "markdown",
   "metadata": {
    "id": "hU5LVdyi8W1F"
   },
   "source": [
    "2. Runs. \n",
    "\n",
    "   List information for runs that are under experiment '0' using [`mlflow.list_run_infos()`](https://www.mlflow.org/docs/latest/python_api/mlflow.html#mlflow.list_run_infos)."
   ]
  },
  {
   "cell_type": "code",
   "execution_count": 45,
   "metadata": {
    "colab": {
     "base_uri": "https://localhost:8080/"
    },
    "executionInfo": {
     "elapsed": 14,
     "status": "ok",
     "timestamp": 1663627946954,
     "user": {
      "displayName": "FLORA XU",
      "userId": "14641465521399406540"
     },
     "user_tz": 420
    },
    "id": "fjHYHCZSpd_Y",
    "outputId": "f640dce4-ac67-4aba-94b9-f07888823678"
   },
   "outputs": [
    {
     "data": {
      "text/html": [
       "<div>\n",
       "<style scoped>\n",
       "    .dataframe tbody tr th:only-of-type {\n",
       "        vertical-align: middle;\n",
       "    }\n",
       "\n",
       "    .dataframe tbody tr th {\n",
       "        vertical-align: top;\n",
       "    }\n",
       "\n",
       "    .dataframe thead th {\n",
       "        text-align: right;\n",
       "    }\n",
       "</style>\n",
       "<table border=\"1\" class=\"dataframe\">\n",
       "  <thead>\n",
       "    <tr style=\"text-align: right;\">\n",
       "      <th></th>\n",
       "      <th>run_id</th>\n",
       "      <th>experiment_id</th>\n",
       "      <th>status</th>\n",
       "      <th>artifact_uri</th>\n",
       "      <th>start_time</th>\n",
       "      <th>end_time</th>\n",
       "      <th>metrics.val_loss</th>\n",
       "      <th>metrics.loss</th>\n",
       "      <th>params.batch_size</th>\n",
       "      <th>params.opt_name</th>\n",
       "      <th>...</th>\n",
       "      <th>params.steps_per_epoch</th>\n",
       "      <th>params.opt_beta_2</th>\n",
       "      <th>params.initial_epoch</th>\n",
       "      <th>params.use_multiprocessing</th>\n",
       "      <th>tags.mlflow.source.name</th>\n",
       "      <th>tags.mlflow.user</th>\n",
       "      <th>tags.mlflow.log-model.history</th>\n",
       "      <th>tags.mlflow.source.type</th>\n",
       "      <th>tags.mlflow.runName</th>\n",
       "      <th>tags.mlflow.autologging</th>\n",
       "    </tr>\n",
       "  </thead>\n",
       "  <tbody>\n",
       "    <tr>\n",
       "      <th>0</th>\n",
       "      <td>b4bcbd81fd8e40899b067d5cf5d84f1b</td>\n",
       "      <td>0</td>\n",
       "      <td>FINISHED</td>\n",
       "      <td>file:///home/annrdyer/ann_repo/assignments/wee...</td>\n",
       "      <td>2022-12-13 04:23:12.368000+00:00</td>\n",
       "      <td>2022-12-13 04:23:31.195000+00:00</td>\n",
       "      <td>2.203032</td>\n",
       "      <td>1.641307</td>\n",
       "      <td>None</td>\n",
       "      <td>Adam</td>\n",
       "      <td>...</td>\n",
       "      <td>None</td>\n",
       "      <td>0.999</td>\n",
       "      <td>0</td>\n",
       "      <td>False</td>\n",
       "      <td>/home/annrdyer/anaconda3/envs/mle-course/lib/p...</td>\n",
       "      <td>annrdyer</td>\n",
       "      <td>[{\"run_id\": \"b4bcbd81fd8e40899b067d5cf5d84f1b\"...</td>\n",
       "      <td>LOCAL</td>\n",
       "      <td>funny-trout-639</td>\n",
       "      <td>tensorflow</td>\n",
       "    </tr>\n",
       "    <tr>\n",
       "      <th>1</th>\n",
       "      <td>6a8cf6a039144237b6f57719360c84f2</td>\n",
       "      <td>0</td>\n",
       "      <td>FINISHED</td>\n",
       "      <td>file:///home/annrdyer/ann_repo/assignments/wee...</td>\n",
       "      <td>2022-12-13 04:22:11.438000+00:00</td>\n",
       "      <td>2022-12-13 04:22:31.082000+00:00</td>\n",
       "      <td>2.464957</td>\n",
       "      <td>2.470826</td>\n",
       "      <td>None</td>\n",
       "      <td>Adam</td>\n",
       "      <td>...</td>\n",
       "      <td>None</td>\n",
       "      <td>0.999</td>\n",
       "      <td>0</td>\n",
       "      <td>False</td>\n",
       "      <td>/home/annrdyer/anaconda3/envs/mle-course/lib/p...</td>\n",
       "      <td>annrdyer</td>\n",
       "      <td>[{\"run_id\": \"6a8cf6a039144237b6f57719360c84f2\"...</td>\n",
       "      <td>LOCAL</td>\n",
       "      <td>aged-flea-291</td>\n",
       "      <td>tensorflow</td>\n",
       "    </tr>\n",
       "    <tr>\n",
       "      <th>2</th>\n",
       "      <td>6bd35d4598c14a3484a98220d3396d20</td>\n",
       "      <td>0</td>\n",
       "      <td>FINISHED</td>\n",
       "      <td>file:///home/annrdyer/ann_repo/assignments/wee...</td>\n",
       "      <td>2022-12-11 21:52:59.146000+00:00</td>\n",
       "      <td>2022-12-11 21:53:19.463000+00:00</td>\n",
       "      <td>2.196191</td>\n",
       "      <td>1.606853</td>\n",
       "      <td>None</td>\n",
       "      <td>Adam</td>\n",
       "      <td>...</td>\n",
       "      <td>None</td>\n",
       "      <td>0.999</td>\n",
       "      <td>0</td>\n",
       "      <td>False</td>\n",
       "      <td>/home/annrdyer/anaconda3/envs/mle-course/lib/p...</td>\n",
       "      <td>annrdyer</td>\n",
       "      <td>[{\"run_id\": \"6bd35d4598c14a3484a98220d3396d20\"...</td>\n",
       "      <td>LOCAL</td>\n",
       "      <td>puzzled-conch-930</td>\n",
       "      <td>tensorflow</td>\n",
       "    </tr>\n",
       "    <tr>\n",
       "      <th>3</th>\n",
       "      <td>5a23ba8059e440ebbe3c4ba49d0e53e2</td>\n",
       "      <td>0</td>\n",
       "      <td>FINISHED</td>\n",
       "      <td>file:///home/annrdyer/ann_repo/assignments/wee...</td>\n",
       "      <td>2022-12-11 21:36:21.344000+00:00</td>\n",
       "      <td>2022-12-11 21:36:48.634000+00:00</td>\n",
       "      <td>2.496344</td>\n",
       "      <td>2.483403</td>\n",
       "      <td>None</td>\n",
       "      <td>Adam</td>\n",
       "      <td>...</td>\n",
       "      <td>None</td>\n",
       "      <td>0.999</td>\n",
       "      <td>0</td>\n",
       "      <td>False</td>\n",
       "      <td>/home/annrdyer/anaconda3/envs/mle-course/lib/p...</td>\n",
       "      <td>annrdyer</td>\n",
       "      <td>[{\"run_id\": \"5a23ba8059e440ebbe3c4ba49d0e53e2\"...</td>\n",
       "      <td>LOCAL</td>\n",
       "      <td>righteous-whale-747</td>\n",
       "      <td>tensorflow</td>\n",
       "    </tr>\n",
       "  </tbody>\n",
       "</table>\n",
       "<p>4 rows × 43 columns</p>\n",
       "</div>"
      ],
      "text/plain": [
       "                             run_id experiment_id    status  \\\n",
       "0  b4bcbd81fd8e40899b067d5cf5d84f1b             0  FINISHED   \n",
       "1  6a8cf6a039144237b6f57719360c84f2             0  FINISHED   \n",
       "2  6bd35d4598c14a3484a98220d3396d20             0  FINISHED   \n",
       "3  5a23ba8059e440ebbe3c4ba49d0e53e2             0  FINISHED   \n",
       "\n",
       "                                        artifact_uri  \\\n",
       "0  file:///home/annrdyer/ann_repo/assignments/wee...   \n",
       "1  file:///home/annrdyer/ann_repo/assignments/wee...   \n",
       "2  file:///home/annrdyer/ann_repo/assignments/wee...   \n",
       "3  file:///home/annrdyer/ann_repo/assignments/wee...   \n",
       "\n",
       "                        start_time                         end_time  \\\n",
       "0 2022-12-13 04:23:12.368000+00:00 2022-12-13 04:23:31.195000+00:00   \n",
       "1 2022-12-13 04:22:11.438000+00:00 2022-12-13 04:22:31.082000+00:00   \n",
       "2 2022-12-11 21:52:59.146000+00:00 2022-12-11 21:53:19.463000+00:00   \n",
       "3 2022-12-11 21:36:21.344000+00:00 2022-12-11 21:36:48.634000+00:00   \n",
       "\n",
       "   metrics.val_loss  metrics.loss params.batch_size params.opt_name  ...  \\\n",
       "0          2.203032      1.641307              None            Adam  ...   \n",
       "1          2.464957      2.470826              None            Adam  ...   \n",
       "2          2.196191      1.606853              None            Adam  ...   \n",
       "3          2.496344      2.483403              None            Adam  ...   \n",
       "\n",
       "  params.steps_per_epoch params.opt_beta_2 params.initial_epoch  \\\n",
       "0                   None             0.999                    0   \n",
       "1                   None             0.999                    0   \n",
       "2                   None             0.999                    0   \n",
       "3                   None             0.999                    0   \n",
       "\n",
       "  params.use_multiprocessing  \\\n",
       "0                      False   \n",
       "1                      False   \n",
       "2                      False   \n",
       "3                      False   \n",
       "\n",
       "                             tags.mlflow.source.name tags.mlflow.user  \\\n",
       "0  /home/annrdyer/anaconda3/envs/mle-course/lib/p...         annrdyer   \n",
       "1  /home/annrdyer/anaconda3/envs/mle-course/lib/p...         annrdyer   \n",
       "2  /home/annrdyer/anaconda3/envs/mle-course/lib/p...         annrdyer   \n",
       "3  /home/annrdyer/anaconda3/envs/mle-course/lib/p...         annrdyer   \n",
       "\n",
       "                       tags.mlflow.log-model.history tags.mlflow.source.type  \\\n",
       "0  [{\"run_id\": \"b4bcbd81fd8e40899b067d5cf5d84f1b\"...                   LOCAL   \n",
       "1  [{\"run_id\": \"6a8cf6a039144237b6f57719360c84f2\"...                   LOCAL   \n",
       "2  [{\"run_id\": \"6bd35d4598c14a3484a98220d3396d20\"...                   LOCAL   \n",
       "3  [{\"run_id\": \"5a23ba8059e440ebbe3c4ba49d0e53e2\"...                   LOCAL   \n",
       "\n",
       "   tags.mlflow.runName tags.mlflow.autologging  \n",
       "0      funny-trout-639              tensorflow  \n",
       "1        aged-flea-291              tensorflow  \n",
       "2    puzzled-conch-930              tensorflow  \n",
       "3  righteous-whale-747              tensorflow  \n",
       "\n",
       "[4 rows x 43 columns]"
      ]
     },
     "execution_count": 45,
     "metadata": {},
     "output_type": "execute_result"
    }
   ],
   "source": [
    "mlflow.search_runs(experiment_ids=['0'])  # YOUR CODE HERE"
   ]
  },
  {
   "cell_type": "markdown",
   "metadata": {
    "id": "l74ail7H8W1F"
   },
   "source": [
    "3. Retrieve the currently active run, i.e., the DNN model. Hint: `mlflow.last_active_run()` "
   ]
  },
  {
   "cell_type": "code",
   "execution_count": 46,
   "metadata": {
    "executionInfo": {
     "elapsed": 266,
     "status": "ok",
     "timestamp": 1663627947216,
     "user": {
      "displayName": "FLORA XU",
      "userId": "14641465521399406540"
     },
     "user_tz": 420
    },
    "id": "25LDySIXetDJ"
   },
   "outputs": [],
   "source": [
    "autolog_run = mlflow.last_active_run() # YOUR CODE HERE"
   ]
  },
  {
   "cell_type": "markdown",
   "metadata": {
    "id": "lNbi3mfZ8W1G"
   },
   "source": [
    "4. Use function `print_auto_logged_info` provided below to fetch the auto logged parameters and metrics for `autolog_run`. "
   ]
  },
  {
   "cell_type": "code",
   "execution_count": 47,
   "metadata": {
    "code_folding": [
     1
    ],
    "executionInfo": {
     "elapsed": 25,
     "status": "ok",
     "timestamp": 1663627947217,
     "user": {
      "displayName": "FLORA XU",
      "userId": "14641465521399406540"
     },
     "user_tz": 420
    },
    "id": "tejN3IaiqzNn"
   },
   "outputs": [],
   "source": [
    "import json\n",
    "def print_auto_logged_info(r):\n",
    "    tags = {k: v for k, v in r.data.tags.items() if not k.startswith(\"mlflow.\")}\n",
    "    artifacts = [f.path for f in MlflowClient().list_artifacts(r.info.run_id, \"model\")]\n",
    "    print(\"run_id: {}\".format(r.info.run_id))\n",
    "    print(\"artifacts: {}\".format(artifacts))\n",
    "    print(\"params: {}\".format(json.dumps(r.data.params, indent=4)))\n",
    "    print(\"metrics: {}\".format(r.data.metrics))\n",
    "    print(\"tags: {}\".format(tags))"
   ]
  },
  {
   "cell_type": "code",
   "execution_count": 48,
   "metadata": {
    "colab": {
     "base_uri": "https://localhost:8080/"
    },
    "executionInfo": {
     "elapsed": 24,
     "status": "ok",
     "timestamp": 1663627947217,
     "user": {
      "displayName": "FLORA XU",
      "userId": "14641465521399406540"
     },
     "user_tz": 420
    },
    "id": "pbo72KK3q1KS",
    "outputId": "80d7ae78-d986-4eb9-b239-6e59ef5824f2"
   },
   "outputs": [
    {
     "name": "stdout",
     "output_type": "stream",
     "text": [
      "run_id: b4bcbd81fd8e40899b067d5cf5d84f1b\n",
      "artifacts: ['model/MLmodel', 'model/conda.yaml', 'model/data', 'model/python_env.yaml', 'model/requirements.txt']\n",
      "params: {\n",
      "    \"use_multiprocessing\": \"False\",\n",
      "    \"validation_split\": \"0.2\",\n",
      "    \"epochs\": \"100\",\n",
      "    \"opt_weight_decay\": \"None\",\n",
      "    \"opt_global_clipnorm\": \"None\",\n",
      "    \"opt_ema_momentum\": \"0.99\",\n",
      "    \"opt_clipvalue\": \"None\",\n",
      "    \"opt_amsgrad\": \"False\",\n",
      "    \"workers\": \"1\",\n",
      "    \"validation_steps\": \"None\",\n",
      "    \"batch_size\": \"None\",\n",
      "    \"steps_per_epoch\": \"None\",\n",
      "    \"class_weight\": \"None\",\n",
      "    \"opt_jit_compile\": \"False\",\n",
      "    \"opt_is_legacy_optimizer\": \"False\",\n",
      "    \"opt_learning_rate\": \"0.001\",\n",
      "    \"opt_name\": \"Adam\",\n",
      "    \"opt_ema_overwrite_frequency\": \"None\",\n",
      "    \"shuffle\": \"True\",\n",
      "    \"opt_beta_2\": \"0.999\",\n",
      "    \"opt_clipnorm\": \"None\",\n",
      "    \"opt_use_ema\": \"False\",\n",
      "    \"validation_batch_size\": \"None\",\n",
      "    \"opt_epsilon\": \"1e-07\",\n",
      "    \"max_queue_size\": \"10\",\n",
      "    \"validation_freq\": \"1\",\n",
      "    \"initial_epoch\": \"0\",\n",
      "    \"sample_weight\": \"None\",\n",
      "    \"opt_beta_1\": \"0.9\"\n",
      "}\n",
      "metrics: {'loss': 1.6413073539733887, 'val_loss': 2.2030317783355713}\n",
      "tags: {}\n"
     ]
    }
   ],
   "source": [
    "print_auto_logged_info(\n",
    "    autolog_run  # YOUR CODE HERE\n",
    "    ) "
   ]
  },
  {
   "cell_type": "markdown",
   "metadata": {
    "id": "9BeuP-WP8W1G"
   },
   "source": [
    "5. Optional. Retrieve the best run using [MlflowClient().search_runs()](https://www.mlflow.org/docs/latest/search-runs.html#python)."
   ]
  },
  {
   "cell_type": "code",
   "execution_count": 49,
   "metadata": {
    "executionInfo": {
     "elapsed": 23,
     "status": "ok",
     "timestamp": 1663627947217,
     "user": {
      "displayName": "FLORA XU",
      "userId": "14641465521399406540"
     },
     "user_tz": 420
    },
    "id": "AmIpgSJbsFD8"
   },
   "outputs": [],
   "source": [
    "from mlflow import MlflowClient\n",
    "from mlflow.entities import ViewType\n",
    "\n",
    "runs = MlflowClient().search_runs(\n",
    "  experiment_ids=\"0\",\n",
    "  filter_string=\"\",\n",
    "  run_view_type=ViewType.ACTIVE_ONLY,\n",
    "  max_results=1,\n",
    "  order_by=[\"metrics.val_loss ASC\"]\n",
    ")\n",
    "\n",
    "# YOUR CODE HERE"
   ]
  },
  {
   "cell_type": "code",
   "execution_count": 50,
   "metadata": {
    "colab": {
     "base_uri": "https://localhost:8080/"
    },
    "executionInfo": {
     "elapsed": 23,
     "status": "ok",
     "timestamp": 1663627947217,
     "user": {
      "displayName": "FLORA XU",
      "userId": "14641465521399406540"
     },
     "user_tz": 420
    },
    "id": "vh1zQTm3s0P5",
    "outputId": "6f722aeb-d1b1-4c7f-e8ca-3a3e3c407521"
   },
   "outputs": [
    {
     "data": {
      "text/plain": [
       "<Run: data=<RunData: metrics={'loss': 1.6068528890609741, 'val_loss': 2.1961910724639893}, params={'batch_size': 'None',\n",
       " 'class_weight': 'None',\n",
       " 'epochs': '100',\n",
       " 'initial_epoch': '0',\n",
       " 'max_queue_size': '10',\n",
       " 'opt_amsgrad': 'False',\n",
       " 'opt_beta_1': '0.9',\n",
       " 'opt_beta_2': '0.999',\n",
       " 'opt_clipnorm': 'None',\n",
       " 'opt_clipvalue': 'None',\n",
       " 'opt_ema_momentum': '0.99',\n",
       " 'opt_ema_overwrite_frequency': 'None',\n",
       " 'opt_epsilon': '1e-07',\n",
       " 'opt_global_clipnorm': 'None',\n",
       " 'opt_is_legacy_optimizer': 'False',\n",
       " 'opt_jit_compile': 'False',\n",
       " 'opt_learning_rate': '0.001',\n",
       " 'opt_name': 'Adam',\n",
       " 'opt_use_ema': 'False',\n",
       " 'opt_weight_decay': 'None',\n",
       " 'sample_weight': 'None',\n",
       " 'shuffle': 'True',\n",
       " 'steps_per_epoch': 'None',\n",
       " 'use_multiprocessing': 'False',\n",
       " 'validation_batch_size': 'None',\n",
       " 'validation_freq': '1',\n",
       " 'validation_split': '0.2',\n",
       " 'validation_steps': 'None',\n",
       " 'workers': '1'}, tags={'mlflow.autologging': 'tensorflow',\n",
       " 'mlflow.log-model.history': '[{\"run_id\": \"6bd35d4598c14a3484a98220d3396d20\", '\n",
       "                             '\"artifact_path\": \"model\", \"utc_time_created\": '\n",
       "                             '\"2022-12-11 21:53:10.793868\", \"flavors\": '\n",
       "                             '{\"tensorflow\": {\"code\": null, \"data\": \"data\", '\n",
       "                             '\"model_type\": \"keras\", \"keras_version\": '\n",
       "                             '\"2.11.0\", \"save_format\": \"tf\"}, '\n",
       "                             '\"python_function\": {\"loader_module\": '\n",
       "                             '\"mlflow.tensorflow\", \"python_version\": \"3.8.13\", '\n",
       "                             '\"data\": \"data\", \"env\": {\"conda\": \"conda.yaml\", '\n",
       "                             '\"virtualenv\": \"python_env.yaml\"}}}, '\n",
       "                             '\"model_uuid\": '\n",
       "                             '\"c7c1c902f6e1469d94ab87ed5b164bac\", '\n",
       "                             '\"mlflow_version\": \"2.0.1\"}]',\n",
       " 'mlflow.runName': 'puzzled-conch-930',\n",
       " 'mlflow.source.name': '/home/annrdyer/anaconda3/envs/mle-course/lib/python3.8/site-packages/ipykernel_launcher.py',\n",
       " 'mlflow.source.type': 'LOCAL',\n",
       " 'mlflow.user': 'annrdyer'}>, info=<RunInfo: artifact_uri='file:///home/annrdyer/ann_repo/assignments/week-07-intro-dl/nb/mlruns/0/6bd35d4598c14a3484a98220d3396d20/artifacts', end_time=1670795599463, experiment_id='0', lifecycle_stage='active', run_id='6bd35d4598c14a3484a98220d3396d20', run_name='puzzled-conch-930', run_uuid='6bd35d4598c14a3484a98220d3396d20', start_time=1670795579146, status='FINISHED', user_id='annrdyer'>>"
      ]
     },
     "execution_count": 50,
     "metadata": {},
     "output_type": "execute_result"
    }
   ],
   "source": [
    "runs[0]"
   ]
  },
  {
   "cell_type": "markdown",
   "metadata": {
    "id": "b-EgegmM8W1G"
   },
   "source": [
    "6. To see what's logged in the file system `/content/mlruns/`, click tab `files` in the left sidepanel in Colab. For example, \n",
    "    ```\n",
    "    mlruns\n",
    "    └── 0\n",
    "        ├── 3a5aebdd35ef46fb8dc35b40e542f0a4\n",
    "        │   ├── artifacts\n",
    "        │   ├── meta.yaml\n",
    "        │   ├── metrics\n",
    "        │   ├── params\n",
    "        │   └── tags\n",
    "        ├── c627bc526c4a4c418a8285627e61a16d\n",
    "        │   ├── artifacts\n",
    "        │   ├── meta.yaml\n",
    "        │   ├── metrics\n",
    "        │   ├── params\n",
    "        │   └── tags\n",
    "        └── meta.yaml\n",
    "\n",
    "    11 directories, 3 files\n",
    "    ```\n",
    "\n",
    "    Inspect the model summary of the DNN model you ran previously; it is located at `artifacts/model_summary.txt` of the corresponding run. Use `cat $filepath`. "
   ]
  },
  {
   "cell_type": "code",
   "execution_count": 51,
   "metadata": {
    "colab": {
     "base_uri": "https://localhost:8080/"
    },
    "executionInfo": {
     "elapsed": 231,
     "status": "ok",
     "timestamp": 1663628162645,
     "user": {
      "displayName": "FLORA XU",
      "userId": "14641465521399406540"
     },
     "user_tz": 420
    },
    "id": "_MQfSU1guWB5",
    "outputId": "acfa04ce-af8f-4381-a1c1-81f8b64511a9"
   },
   "outputs": [
    {
     "name": "stdout",
     "output_type": "stream",
     "text": [
      "Model: \"sequential_1\"\r\n",
      "_________________________________________________________________\r\n",
      " Layer (type)                Output Shape              Param #   \r\n",
      "=================================================================\r\n",
      " normalization (Normalizatio  (None, 9)                19        \r\n",
      " n)                                                              \r\n",
      "                                                                 \r\n",
      " dense_1 (Dense)             (None, 64)                640       \r\n",
      "                                                                 \r\n",
      " dense_2 (Dense)             (None, 64)                4160      \r\n",
      "                                                                 \r\n",
      " dense_3 (Dense)             (None, 1)                 65        \r\n",
      "                                                                 \r\n",
      "=================================================================\r\n",
      "Total params: 4,884\r\n",
      "Trainable params: 4,865\r\n",
      "Non-trainable params: 19\r\n",
      "_________________________________________________________________"
     ]
    }
   ],
   "source": [
    "! cat ///home/annrdyer/ann_repo/assignments/week-07-intro-dl/nb/mlruns/0/6bd35d4598c14a3484a98220d3396d20/artifacts/model_summary.txt   \n",
    "    \n",
    "# YOUR CODE HERE (bash)"
   ]
  },
  {
   "cell_type": "markdown",
   "metadata": {
    "id": "dZp8rnL0pBnh"
   },
   "source": [
    "7. Tracking UI. \n",
    "\n",
    "    MLflow provides an UI for us to visualize, search and compare runs, as well as download run artifacts or metadata for analysis in other tools. \n",
    "\n",
    "    If your runs are logged to a local mlruns directory, run `mlflow ui` in the directory above it will load the corresponding runs. \n",
    "    \n",
    "    Running localhost server in Colab, however, requires a bit of extra work:\n",
    "    - set up a free account on [ngrok](https://dashboard.ngrok.com/get-started/setup)\n",
    "    - retrieve the authtoken from https://dashboard.ngrok.com/auth and update the code cell below\n",
    "    \n",
    "   **NOTE**. NEVER share your secrets. Best to keep `NGROK_AUTH_TOKEN` as an environment variable and retrieve it via `os.environ.get(\"NGROK_AUTH_TOKEN\")`."
   ]
  },
  {
   "cell_type": "code",
   "execution_count": null,
   "metadata": {},
   "outputs": [],
   "source": [
    "# run tracking UI in the background\n",
    "get_ipython().system_raw(\"mlflow ui --port 5000 &\") \n",
    "\n",
    "# create remote tunnel using ngrok.com to allow local port access\n",
    "from pyngrok import ngrok\n",
    "# Terminate open tunnels if exist\n",
    "ngrok.kill()\n",
    "\n",
    "# Setting the authtoken (see Note above)\n",
    "NGROK_AUTH_TOKEN = \"2EpLAwBPBxY5nlcuUvddGKOumUD_7pfLCJRhe9ku896xysV46\"  # YOUR CODE HERE\n",
    "ngrok.set_auth_token(NGROK_AUTH_TOKEN)\n",
    "\n",
    "# Open an HTTPs tunnel on port 5000 for http://localhost:5000\n",
    "ngrok_tunnel = ngrok.connect(addr=\"5000\", proto=\"http\", bind_tls=True)\n",
    "print(\"MLflow Tracking UI:\", ngrok_tunnel.public_url)"
   ]
  },
  {
   "cell_type": "markdown",
   "metadata": {
    "id": "4_kE6F5t8W1H"
   },
   "source": [
    "8. Interact with Tracking UI. \n",
    "\n",
    "    Open the link, output from the previous cell. get oriented, `Parameters`, `Metrics`, `Artifacts`, and so on.\n",
    "    \n",
    "    When you are done, make sure to terminate the open tunnel:"
   ]
  },
  {
   "cell_type": "code",
   "execution_count": null,
   "metadata": {
    "id": "k0aY2xWOFAvM"
   },
   "outputs": [],
   "source": [
    "ngrok.kill()"
   ]
  },
  {
   "cell_type": "code",
   "execution_count": 55,
   "metadata": {},
   "outputs": [
    {
     "name": "stdout",
     "output_type": "stream",
     "text": [
      "[2022-12-12 20:44:25 -0800] [6277] [INFO] Starting gunicorn 20.1.0\n",
      "[2022-12-12 20:44:25 -0800] [6277] [ERROR] Connection in use: ('127.0.0.1', 5000)\n",
      "[2022-12-12 20:44:25 -0800] [6277] [ERROR] Retrying in 1 second.\n",
      "[2022-12-12 20:44:26 -0800] [6277] [ERROR] Connection in use: ('127.0.0.1', 5000)\n",
      "[2022-12-12 20:44:26 -0800] [6277] [ERROR] Retrying in 1 second.\n",
      "[2022-12-12 20:44:27 -0800] [6277] [ERROR] Connection in use: ('127.0.0.1', 5000)\n",
      "[2022-12-12 20:44:27 -0800] [6277] [ERROR] Retrying in 1 second.\n",
      "[2022-12-12 20:44:28 -0800] [6277] [ERROR] Connection in use: ('127.0.0.1', 5000)\n",
      "[2022-12-12 20:44:28 -0800] [6277] [ERROR] Retrying in 1 second.\n",
      "[2022-12-12 20:44:29 -0800] [6277] [ERROR] Connection in use: ('127.0.0.1', 5000)\n",
      "[2022-12-12 20:44:29 -0800] [6277] [ERROR] Retrying in 1 second.\n",
      "[2022-12-12 20:44:30 -0800] [6277] [ERROR] Can't connect to ('127.0.0.1', 5000)\n",
      "Running the mlflow server failed. Please see the logs above for details.\n"
     ]
    }
   ],
   "source": [
    "! cd ///home/annrdyer/ann_repo/assignments/week-07-intro-dl/nb && mlflow ui"
   ]
  },
  {
   "cell_type": "markdown",
   "metadata": {
    "id": "06DnCpbACGNM"
   },
   "source": [
    "# Task 8 - AutoML with TPOT 🫖"
   ]
  },
  {
   "cell_type": "markdown",
   "metadata": {
    "id": "djIwpag8DsEu"
   },
   "source": [
    "1. Instantiate and train a TPOT auto-ML regressor.\n",
    "\n",
    "  The parameters are set fairly arbitrarily (if time permits, you shall experiment with different sets of parameters after reading [what each parameter does](http://epistasislab.github.io/tpot/api/#regression)). Use these parameter values:\n",
    "\n",
    "  `generations`: 10\n",
    "\n",
    "  `population_size`: 40\n",
    "\n",
    "  `scoring`: negative mean absolute error; read more in [scoring functions in TPOT](http://epistasislab.github.io/tpot/using/#scoring-functions)\n",
    "\n",
    "  `verbosity`: 2 (so you can see each generation's performance)\n",
    "\n",
    "  The final line with create a Python script tpot_products_pipeline.py with the code to create the optimal model found by TPOT."
   ]
  },
  {
   "cell_type": "code",
   "execution_count": 56,
   "metadata": {
    "colab": {
     "base_uri": "https://localhost:8080/",
     "height": 448,
     "referenced_widgets": [
      "f0639c63a42e4724b1093c10a0495606",
      "795ad58f335e4f5a8a2cf188b6c27891",
      "810efda3ce3a487c8562223a6c3109e9",
      "79366c8022e74226bfe2768e5d9e6ee1",
      "b2be8f74181f4f67b17d04c73a30cc12",
      "48ace3fbd1864095b2e801fc7d81f331",
      "c1a60f46c54343638707335cacb0de7f",
      "76363a3fc90e46b1b040a21e9eaa21f1",
      "8a107efdc33440c9ba472e2c17b95ea7",
      "2dbf5b2c7f974f35a488307eac5f19aa",
      "c9c8b7507a9e43a0b42f9119d1c58a8c"
     ]
    },
    "id": "IvJpNXHg_RS5",
    "outputId": "43e6861e-c385-4c4f-f343-c5ac5bf9d853"
   },
   "outputs": [
    {
     "name": "stderr",
     "output_type": "stream",
     "text": [
      "/home/annrdyer/anaconda3/envs/mle-course/lib/python3.8/site-packages/tpot/builtins/__init__.py:36: UserWarning: Warning: optional dependency `torch` is not available. - skipping import of NN models.\n",
      "  warnings.warn(\"Warning: optional dependency `torch` is not available. - skipping import of NN models.\")\n"
     ]
    },
    {
     "data": {
      "application/vnd.jupyter.widget-view+json": {
       "model_id": "",
       "version_major": 2,
       "version_minor": 0
      },
      "text/plain": [
       "Optimization Progress:   0%|          | 0/440 [00:00<?, ?pipeline/s]"
      ]
     },
     "metadata": {},
     "output_type": "display_data"
    },
    {
     "name": "stdout",
     "output_type": "stream",
     "text": [
      "\n",
      "Generation 1 - Current best internal CV score: -2.0391493673159626\n",
      "\n",
      "Generation 2 - Current best internal CV score: -2.0391493673159626\n",
      "\n",
      "Generation 3 - Current best internal CV score: -2.0391493673159626\n",
      "\n",
      "Generation 4 - Current best internal CV score: -2.0391493673159626\n",
      "\n",
      "Generation 5 - Current best internal CV score: -1.9760831555452802\n",
      "\n",
      "Generation 6 - Current best internal CV score: -1.9399572887864829\n",
      "\n",
      "Generation 7 - Current best internal CV score: -1.9399572887864829\n",
      "\n",
      "Generation 8 - Current best internal CV score: -1.9399572887864829\n",
      "\n",
      "Generation 9 - Current best internal CV score: -1.9399572887864829\n",
      "\n",
      "Generation 10 - Current best internal CV score: -1.9347233529612562\n",
      "\n",
      "Best pipeline: ExtraTreesRegressor(LinearSVR(input_matrix, C=20.0, dual=True, epsilon=0.1, loss=epsilon_insensitive, tol=1e-05), bootstrap=False, max_features=0.7000000000000001, min_samples_leaf=1, min_samples_split=6, n_estimators=100)\n",
      "Tpop score on test data: -1.72\n",
      "CPU times: user 9min 23s, sys: 34.5 s, total: 9min 58s\n",
      "Wall time: 9min 9s\n"
     ]
    },
    {
     "name": "stderr",
     "output_type": "stream",
     "text": [
      "/home/annrdyer/anaconda3/envs/mle-course/lib/python3.8/site-packages/sklearn/base.py:450: UserWarning: X does not have valid feature names, but LinearSVR was fitted with feature names\n",
      "  warnings.warn(\n"
     ]
    }
   ],
   "source": [
    "%%time\n",
    "from tpot import TPOTRegressor\n",
    "tpot = TPOTRegressor(generations=10, \n",
    "                     population_size=40,\n",
    "                     scoring='neg_mean_absolute_error', # YOUR CODE HERE\n",
    "                     verbosity=2,\n",
    "                     random_state=42)\n",
    "tpot.fit(train_features, train_labels)\n",
    "print(f\"Tpop score on test data: {tpot.score(test_features, test_labels):.2f}\")\n",
    "tpot.export('tpot_mpg_pipeline.py')"
   ]
  },
  {
   "cell_type": "markdown",
   "metadata": {
    "id": "1Ne0SBfZIwsF"
   },
   "source": [
    "2. Examine the model pipeline that TPOT regressor offers. If you see any model, function, or class that are not familiar, look them up! \n",
    "\n",
    "  Note: There is randomness to the way the TPOT searches, so it's possible you won't have exactly the same result as your classmate. "
   ]
  },
  {
   "cell_type": "code",
   "execution_count": 57,
   "metadata": {
    "colab": {
     "base_uri": "https://localhost:8080/"
    },
    "id": "3LdJz0Bfg7Sg",
    "outputId": "9c6f43f8-5811-4556-98cc-c38381777d1e"
   },
   "outputs": [
    {
     "name": "stdout",
     "output_type": "stream",
     "text": [
      "import numpy as np\r\n",
      "import pandas as pd\r\n",
      "from sklearn.ensemble import ExtraTreesRegressor\r\n",
      "from sklearn.model_selection import train_test_split\r\n",
      "from sklearn.pipeline import make_pipeline, make_union\r\n",
      "from sklearn.svm import LinearSVR\r\n",
      "from tpot.builtins import StackingEstimator\r\n",
      "from tpot.export_utils import set_param_recursive\r\n",
      "\r\n",
      "# NOTE: Make sure that the outcome column is labeled 'target' in the data file\r\n",
      "tpot_data = pd.read_csv('PATH/TO/DATA/FILE', sep='COLUMN_SEPARATOR', dtype=np.float64)\r\n",
      "features = tpot_data.drop('target', axis=1)\r\n",
      "training_features, testing_features, training_target, testing_target = \\\r\n",
      "            train_test_split(features, tpot_data['target'], random_state=42)\r\n",
      "\r\n",
      "# Average CV score on the training set was: -1.9347233529612562\r\n",
      "exported_pipeline = make_pipeline(\r\n",
      "    StackingEstimator(estimator=LinearSVR(C=20.0, dual=True, epsilon=0.1, loss=\"epsilon_insensitive\", tol=1e-05)),\r\n",
      "    ExtraTreesRegressor(bootstrap=False, max_features=0.7000000000000001, min_samples_leaf=1, min_samples_split=6, n_estimators=100)\r\n",
      ")\r\n",
      "# Fix random state for all the steps in exported pipeline\r\n",
      "set_param_recursive(exported_pipeline.steps, 'random_state', 42)\r\n",
      "\r\n",
      "exported_pipeline.fit(training_features, training_target)\r\n",
      "results = exported_pipeline.predict(testing_features)\r\n"
     ]
    }
   ],
   "source": [
    "cat tpot_mpg_pipeline.py"
   ]
  },
  {
   "cell_type": "markdown",
   "metadata": {
    "id": "hNsj_X6zJzb5"
   },
   "source": [
    "3. Take the appropriate lines (e.g., updating path to data and the variable names) from `tpot_mpg_pipeline.py` to build a model on our training set and make predictions on the test set. \n",
    "Save the predictions as `y_pred`, and compute appropriate evaluation metric. \n",
    "You may find that for this simple data set, the neural network we built outperforms the tree-based model, yet note it is not a conclusion that we can generalize for all tabular data. "
   ]
  },
  {
   "cell_type": "code",
   "execution_count": 59,
   "metadata": {},
   "outputs": [
    {
     "name": "stderr",
     "output_type": "stream",
     "text": [
      "/home/annrdyer/anaconda3/envs/mle-course/lib/python3.8/site-packages/sklearn/svm/_base.py:1206: ConvergenceWarning: Liblinear failed to converge, increase the number of iterations.\n",
      "  warnings.warn(\n",
      "/home/annrdyer/anaconda3/envs/mle-course/lib/python3.8/site-packages/sklearn/base.py:450: UserWarning: X does not have valid feature names, but LinearSVR was fitted with feature names\n",
      "  warnings.warn(\n",
      "/home/annrdyer/anaconda3/envs/mle-course/lib/python3.8/site-packages/sklearn/base.py:450: UserWarning: X does not have valid feature names, but LinearSVR was fitted with feature names\n",
      "  warnings.warn(\n",
      "/home/annrdyer/anaconda3/envs/mle-course/lib/python3.8/site-packages/sklearn/base.py:450: UserWarning: X does not have valid feature names, but LinearSVR was fitted with feature names\n",
      "  warnings.warn(\n"
     ]
    },
    {
     "name": "stdout",
     "output_type": "stream",
     "text": [
      "eval metric: 1.0\n"
     ]
    },
    {
     "data": {
      "image/png": "[encoded data removed]",
      "text/plain": [
       "<Figure size 640x480 with 1 Axes>"
      ]
     },
     "metadata": {},
     "output_type": "display_data"
    }
   ],
   "source": [
    "import numpy as np\n",
    "import pandas as pd\n",
    "from sklearn.ensemble import ExtraTreesRegressor\n",
    "from sklearn.model_selection import train_test_split\n",
    "from sklearn.pipeline import make_pipeline, make_union\n",
    "from sklearn.svm import LinearSVR\n",
    "from tpot.builtins import StackingEstimator\n",
    "from tpot.export_utils import set_param_recursive\n",
    "\n",
    "# NOTE: Make sure that the outcome column is labeled 'target' in the data file\n",
    "#tpot_data = pd.read_csv('PATH/TO/DATA/FILE', sep='COLUMN_SEPARATOR', dtype=np.float64)\n",
    "#features = tpot_data.drop('target', axis=1)\n",
    "#training_features, testing_features, training_target, testing_target = \\\n",
    "#            train_test_split(features, tpot_data['target'], random_state=42)\n",
    "\n",
    "# Average CV score on the training set was: -1.9347233529612562\n",
    "exported_pipeline = make_pipeline(\n",
    "    StackingEstimator(estimator=LinearSVR(C=20.0, dual=True, epsilon=0.1, loss=\"epsilon_insensitive\", tol=1e-05)),\n",
    "    ExtraTreesRegressor(bootstrap=False, max_features=0.7000000000000001, min_samples_leaf=1, min_samples_split=6, n_estimators=100)\n",
    ")\n",
    "# Fix random state for all the steps in exported pipeline\n",
    "set_param_recursive(exported_pipeline.steps, 'random_state', 42)\n",
    "\n",
    "exported_pipeline.fit(train_features, train_labels)\n",
    "y_pred = exported_pipeline.predict(test_features)\n",
    "eval_metric = exported_pipeline.score(test_features, y_pred)\n",
    "print('eval metric: ' + str(eval_metric))\n",
    "\n",
    "a = plt.axes(aspect='equal')\n",
    "plt.scatter(test_labels, y_pred)\n",
    "plt.xlabel('True Values [MPG]')\n",
    "plt.ylabel('Predictions [MPG]')\n",
    "lims = [0, 50]\n",
    "plt.xlim(lims)\n",
    "plt.ylim(lims)\n",
    "_ = plt.plot(lims, lims)\n"
   ]
  },
  {
   "cell_type": "code",
   "execution_count": 60,
   "metadata": {},
   "outputs": [
    {
     "data": {
      "image/png": "[encoded data removed]",
      "text/plain": [
       "<Figure size 640x480 with 1 Axes>"
      ]
     },
     "metadata": {},
     "output_type": "display_data"
    }
   ],
   "source": [
    "error = y_pred - test_labels   \n",
    "plt.hist(error, bins=25)\n",
    "plt.xlabel('Prediction Error [MPG]')\n",
    "_ = plt.ylabel('Count')"
   ]
  },
  {
   "cell_type": "markdown",
   "metadata": {
    "id": "aUEekD-ZtmWL"
   },
   "source": [
    "# Task 9 - Model Explainability\n",
    "\n",
    "Last week, we introduced model explainability with SHAP and will continue to incorporate it as part our model output this week.  You can use the [Kernel Explainer](https://shap.readthedocs.io/en/latest/example_notebooks/tabular_examples/neural_networks/Census%20income%20classification%20with%20Keras.html) for explainability of both the Neural Networks and the TPOT classifier.  "
   ]
  },
  {
   "cell_type": "code",
   "execution_count": 64,
   "metadata": {
    "colab": {
     "base_uri": "https://localhost:8080/",
     "height": 75,
     "referenced_widgets": [
      "72a2425764674ce190927fbbf3b081a1",
      "d9f6d54ab402459b81ba65ca8f73f58e",
      "66562df157104520aba66096e0110b6d",
      "0b8e29c1645d42afa585020fa0df67ae",
      "74d2ed5b965b4ecfbcf3b10ffb4486cf",
      "6a044954b19e4a28943c579fee0e3a18",
      "6171c78fcfc7416784fedd151719857f",
      "4762b74087844de687777a36962ed590",
      "42312548e6be4e049a3300c1463a74df",
      "1e6b41d169ed44799d95ded612c4ffbf",
      "025e808948034d0c91e2b20b0918da0e"
     ]
    },
    "id": "80mtSb2mtmWL",
    "outputId": "e34b2e1a-c6a8-4e9a-f704-c840d98253c2"
   },
   "outputs": [
    {
     "name": "stdout",
     "output_type": "stream",
     "text": [
      "Provided model function fails when applied to the provided data set.\n"
     ]
    },
    {
     "ename": "ValueError",
     "evalue": "in user code:\n\n    File \"/home/annrdyer/anaconda3/envs/mle-course/lib/python3.8/site-packages/keras/engine/training.py\", line 2137, in predict_function  *\n        return step_function(self, iterator)\n    File \"/home/annrdyer/anaconda3/envs/mle-course/lib/python3.8/site-packages/keras/engine/training.py\", line 2123, in step_function  **\n        outputs = model.distribute_strategy.run(run_step, args=(data,))\n    File \"/home/annrdyer/anaconda3/envs/mle-course/lib/python3.8/site-packages/keras/engine/training.py\", line 2111, in run_step  **\n        outputs = model.predict_step(data)\n    File \"/home/annrdyer/anaconda3/envs/mle-course/lib/python3.8/site-packages/keras/engine/training.py\", line 2079, in predict_step\n        return self(x, training=False)\n    File \"/home/annrdyer/anaconda3/envs/mle-course/lib/python3.8/site-packages/keras/utils/traceback_utils.py\", line 70, in error_handler\n        raise e.with_traceback(filtered_tb) from None\n    File \"/home/annrdyer/anaconda3/envs/mle-course/lib/python3.8/site-packages/keras/engine/input_spec.py\", line 216, in assert_input_compatibility\n        raise ValueError(\n\n    ValueError: Layer \"sequential_1\" expects 1 input(s), but it received 9 input tensors. Inputs received: [<tf.Tensor 'IteratorGetNext:0' shape=(None,) dtype=float32>, <tf.Tensor 'IteratorGetNext:1' shape=(None,) dtype=float32>, <tf.Tensor 'IteratorGetNext:2' shape=(None,) dtype=float32>, <tf.Tensor 'IteratorGetNext:3' shape=(None,) dtype=float32>, <tf.Tensor 'IteratorGetNext:4' shape=(None,) dtype=float32>, <tf.Tensor 'IteratorGetNext:5' shape=(None,) dtype=float32>, <tf.Tensor 'IteratorGetNext:6' shape=(None,) dtype=float32>, <tf.Tensor 'IteratorGetNext:7' shape=(None,) dtype=float32>, <tf.Tensor 'IteratorGetNext:8' shape=(None,) dtype=float32>]\n",
     "output_type": "error",
     "traceback": [
      "\u001b[0;31m---------------------------------------------------------------------------\u001b[0m",
      "\u001b[0;31mValueError\u001b[0m                                Traceback (most recent call last)",
      "Cell \u001b[0;32mIn [64], line 6\u001b[0m\n\u001b[1;32m      3\u001b[0m \u001b[38;5;28;01mdef\u001b[39;00m \u001b[38;5;21mf\u001b[39m(test_features):\n\u001b[1;32m      4\u001b[0m     \u001b[38;5;28;01mreturn\u001b[39;00m dnn_model\u001b[38;5;241m.\u001b[39mpredict([test_features[:,i] \u001b[38;5;28;01mfor\u001b[39;00m i \u001b[38;5;129;01min\u001b[39;00m \u001b[38;5;28mrange\u001b[39m(test_features\u001b[38;5;241m.\u001b[39mshape[\u001b[38;5;241m1\u001b[39m])])\u001b[38;5;241m.\u001b[39mflatten()\n\u001b[0;32m----> 6\u001b[0m explainer \u001b[38;5;241m=\u001b[39m \u001b[43mshap\u001b[49m\u001b[38;5;241;43m.\u001b[39;49m\u001b[43mKernelExplainer\u001b[49m\u001b[43m(\u001b[49m\u001b[43mf\u001b[49m\u001b[43m,\u001b[49m\u001b[43m \u001b[49m\u001b[43mtest_features\u001b[49m\u001b[38;5;241;43m.\u001b[39;49m\u001b[43miloc\u001b[49m\u001b[43m[\u001b[49m\u001b[43m:\u001b[49m\u001b[38;5;241;43m50\u001b[39;49m\u001b[43m,\u001b[49m\u001b[43m:\u001b[49m\u001b[43m]\u001b[49m\u001b[43m)\u001b[49m\n\u001b[1;32m      7\u001b[0m shap_values \u001b[38;5;241m=\u001b[39m explainer\u001b[38;5;241m.\u001b[39mshap_values(test_features\u001b[38;5;241m.\u001b[39miloc[\u001b[38;5;241m299\u001b[39m,:], nsamples\u001b[38;5;241m=\u001b[39m\u001b[38;5;241m500\u001b[39m)\n\u001b[1;32m      8\u001b[0m shap\u001b[38;5;241m.\u001b[39mforce_plot(explainer\u001b[38;5;241m.\u001b[39mexpected_value, shap_values, X_display\u001b[38;5;241m.\u001b[39miloc[\u001b[38;5;241m299\u001b[39m,:])\n",
      "File \u001b[0;32m~/anaconda3/envs/mle-course/lib/python3.8/site-packages/shap/explainers/_kernel.py:70\u001b[0m, in \u001b[0;36mKernel.__init__\u001b[0;34m(self, model, data, link, **kwargs)\u001b[0m\n\u001b[1;32m     68\u001b[0m \u001b[38;5;28mself\u001b[39m\u001b[38;5;241m.\u001b[39mkeep_index_ordered \u001b[38;5;241m=\u001b[39m kwargs\u001b[38;5;241m.\u001b[39mget(\u001b[38;5;124m\"\u001b[39m\u001b[38;5;124mkeep_index_ordered\u001b[39m\u001b[38;5;124m\"\u001b[39m, \u001b[38;5;28;01mFalse\u001b[39;00m)\n\u001b[1;32m     69\u001b[0m \u001b[38;5;28mself\u001b[39m\u001b[38;5;241m.\u001b[39mdata \u001b[38;5;241m=\u001b[39m convert_to_data(data, keep_index\u001b[38;5;241m=\u001b[39m\u001b[38;5;28mself\u001b[39m\u001b[38;5;241m.\u001b[39mkeep_index)\n\u001b[0;32m---> 70\u001b[0m model_null \u001b[38;5;241m=\u001b[39m \u001b[43mmatch_model_to_data\u001b[49m\u001b[43m(\u001b[49m\u001b[38;5;28;43mself\u001b[39;49m\u001b[38;5;241;43m.\u001b[39;49m\u001b[43mmodel\u001b[49m\u001b[43m,\u001b[49m\u001b[43m \u001b[49m\u001b[38;5;28;43mself\u001b[39;49m\u001b[38;5;241;43m.\u001b[39;49m\u001b[43mdata\u001b[49m\u001b[43m)\u001b[49m\n\u001b[1;32m     72\u001b[0m \u001b[38;5;66;03m# enforce our current input type limitations\u001b[39;00m\n\u001b[1;32m     73\u001b[0m \u001b[38;5;28;01massert\u001b[39;00m \u001b[38;5;28misinstance\u001b[39m(\u001b[38;5;28mself\u001b[39m\u001b[38;5;241m.\u001b[39mdata, DenseData) \u001b[38;5;129;01mor\u001b[39;00m \u001b[38;5;28misinstance\u001b[39m(\u001b[38;5;28mself\u001b[39m\u001b[38;5;241m.\u001b[39mdata, SparseData), \\\n\u001b[1;32m     74\u001b[0m        \u001b[38;5;124m\"\u001b[39m\u001b[38;5;124mShap explainer only supports the DenseData and SparseData input currently.\u001b[39m\u001b[38;5;124m\"\u001b[39m\n",
      "File \u001b[0;32m~/anaconda3/envs/mle-course/lib/python3.8/site-packages/shap/utils/_legacy.py:112\u001b[0m, in \u001b[0;36mmatch_model_to_data\u001b[0;34m(model, data)\u001b[0m\n\u001b[1;32m    110\u001b[0m         out_val \u001b[38;5;241m=\u001b[39m model\u001b[38;5;241m.\u001b[39mf(data\u001b[38;5;241m.\u001b[39mconvert_to_df())\n\u001b[1;32m    111\u001b[0m     \u001b[38;5;28;01melse\u001b[39;00m:\n\u001b[0;32m--> 112\u001b[0m         out_val \u001b[38;5;241m=\u001b[39m \u001b[43mmodel\u001b[49m\u001b[38;5;241;43m.\u001b[39;49m\u001b[43mf\u001b[49m\u001b[43m(\u001b[49m\u001b[43mdata\u001b[49m\u001b[38;5;241;43m.\u001b[39;49m\u001b[43mdata\u001b[49m\u001b[43m)\u001b[49m\n\u001b[1;32m    113\u001b[0m \u001b[38;5;28;01mexcept\u001b[39;00m:\n\u001b[1;32m    114\u001b[0m     \u001b[38;5;28mprint\u001b[39m(\u001b[38;5;124m\"\u001b[39m\u001b[38;5;124mProvided model function fails when applied to the provided data set.\u001b[39m\u001b[38;5;124m\"\u001b[39m)\n",
      "Cell \u001b[0;32mIn [64], line 4\u001b[0m, in \u001b[0;36mf\u001b[0;34m(test_features)\u001b[0m\n\u001b[1;32m      3\u001b[0m \u001b[38;5;28;01mdef\u001b[39;00m \u001b[38;5;21mf\u001b[39m(test_features):\n\u001b[0;32m----> 4\u001b[0m     \u001b[38;5;28;01mreturn\u001b[39;00m \u001b[43mdnn_model\u001b[49m\u001b[38;5;241;43m.\u001b[39;49m\u001b[43mpredict\u001b[49m\u001b[43m(\u001b[49m\u001b[43m[\u001b[49m\u001b[43mtest_features\u001b[49m\u001b[43m[\u001b[49m\u001b[43m:\u001b[49m\u001b[43m,\u001b[49m\u001b[43mi\u001b[49m\u001b[43m]\u001b[49m\u001b[43m \u001b[49m\u001b[38;5;28;43;01mfor\u001b[39;49;00m\u001b[43m \u001b[49m\u001b[43mi\u001b[49m\u001b[43m \u001b[49m\u001b[38;5;129;43;01min\u001b[39;49;00m\u001b[43m \u001b[49m\u001b[38;5;28;43mrange\u001b[39;49m\u001b[43m(\u001b[49m\u001b[43mtest_features\u001b[49m\u001b[38;5;241;43m.\u001b[39;49m\u001b[43mshape\u001b[49m\u001b[43m[\u001b[49m\u001b[38;5;241;43m1\u001b[39;49m\u001b[43m]\u001b[49m\u001b[43m)\u001b[49m\u001b[43m]\u001b[49m\u001b[43m)\u001b[49m\u001b[38;5;241m.\u001b[39mflatten()\n",
      "File \u001b[0;32m~/anaconda3/envs/mle-course/lib/python3.8/site-packages/keras/utils/traceback_utils.py:70\u001b[0m, in \u001b[0;36mfilter_traceback.<locals>.error_handler\u001b[0;34m(*args, **kwargs)\u001b[0m\n\u001b[1;32m     67\u001b[0m     filtered_tb \u001b[38;5;241m=\u001b[39m _process_traceback_frames(e\u001b[38;5;241m.\u001b[39m__traceback__)\n\u001b[1;32m     68\u001b[0m     \u001b[38;5;66;03m# To get the full stack trace, call:\u001b[39;00m\n\u001b[1;32m     69\u001b[0m     \u001b[38;5;66;03m# `tf.debugging.disable_traceback_filtering()`\u001b[39;00m\n\u001b[0;32m---> 70\u001b[0m     \u001b[38;5;28;01mraise\u001b[39;00m e\u001b[38;5;241m.\u001b[39mwith_traceback(filtered_tb) \u001b[38;5;28;01mfrom\u001b[39;00m \u001b[38;5;28mNone\u001b[39m\n\u001b[1;32m     71\u001b[0m \u001b[38;5;28;01mfinally\u001b[39;00m:\n\u001b[1;32m     72\u001b[0m     \u001b[38;5;28;01mdel\u001b[39;00m filtered_tb\n",
      "File \u001b[0;32m/tmp/__autograph_generated_fileq0ig3i27.py:15\u001b[0m, in \u001b[0;36mouter_factory.<locals>.inner_factory.<locals>.tf__predict_function\u001b[0;34m(iterator)\u001b[0m\n\u001b[1;32m     13\u001b[0m \u001b[38;5;28;01mtry\u001b[39;00m:\n\u001b[1;32m     14\u001b[0m     do_return \u001b[38;5;241m=\u001b[39m \u001b[38;5;28;01mTrue\u001b[39;00m\n\u001b[0;32m---> 15\u001b[0m     retval_ \u001b[38;5;241m=\u001b[39m ag__\u001b[38;5;241m.\u001b[39mconverted_call(ag__\u001b[38;5;241m.\u001b[39mld(step_function), (ag__\u001b[38;5;241m.\u001b[39mld(\u001b[38;5;28mself\u001b[39m), ag__\u001b[38;5;241m.\u001b[39mld(iterator)), \u001b[38;5;28;01mNone\u001b[39;00m, fscope)\n\u001b[1;32m     16\u001b[0m \u001b[38;5;28;01mexcept\u001b[39;00m:\n\u001b[1;32m     17\u001b[0m     do_return \u001b[38;5;241m=\u001b[39m \u001b[38;5;28;01mFalse\u001b[39;00m\n",
      "\u001b[0;31mValueError\u001b[0m: in user code:\n\n    File \"/home/annrdyer/anaconda3/envs/mle-course/lib/python3.8/site-packages/keras/engine/training.py\", line 2137, in predict_function  *\n        return step_function(self, iterator)\n    File \"/home/annrdyer/anaconda3/envs/mle-course/lib/python3.8/site-packages/keras/engine/training.py\", line 2123, in step_function  **\n        outputs = model.distribute_strategy.run(run_step, args=(data,))\n    File \"/home/annrdyer/anaconda3/envs/mle-course/lib/python3.8/site-packages/keras/engine/training.py\", line 2111, in run_step  **\n        outputs = model.predict_step(data)\n    File \"/home/annrdyer/anaconda3/envs/mle-course/lib/python3.8/site-packages/keras/engine/training.py\", line 2079, in predict_step\n        return self(x, training=False)\n    File \"/home/annrdyer/anaconda3/envs/mle-course/lib/python3.8/site-packages/keras/utils/traceback_utils.py\", line 70, in error_handler\n        raise e.with_traceback(filtered_tb) from None\n    File \"/home/annrdyer/anaconda3/envs/mle-course/lib/python3.8/site-packages/keras/engine/input_spec.py\", line 216, in assert_input_compatibility\n        raise ValueError(\n\n    ValueError: Layer \"sequential_1\" expects 1 input(s), but it received 9 input tensors. Inputs received: [<tf.Tensor 'IteratorGetNext:0' shape=(None,) dtype=float32>, <tf.Tensor 'IteratorGetNext:1' shape=(None,) dtype=float32>, <tf.Tensor 'IteratorGetNext:2' shape=(None,) dtype=float32>, <tf.Tensor 'IteratorGetNext:3' shape=(None,) dtype=float32>, <tf.Tensor 'IteratorGetNext:4' shape=(None,) dtype=float32>, <tf.Tensor 'IteratorGetNext:5' shape=(None,) dtype=float32>, <tf.Tensor 'IteratorGetNext:6' shape=(None,) dtype=float32>, <tf.Tensor 'IteratorGetNext:7' shape=(None,) dtype=float32>, <tf.Tensor 'IteratorGetNext:8' shape=(None,) dtype=float32>]\n"
     ]
    },
    {
     "name": "stderr",
     "output_type": "stream",
     "text": [
      "[2022-12-13 15:22:59 -0800] [6212] [CRITICAL] WORKER TIMEOUT (pid:6214)\n",
      "[2022-12-13 15:22:59 -0800] [6212] [CRITICAL] WORKER TIMEOUT (pid:6215)\n",
      "[2022-12-13 15:22:59 -0800] [6212] [CRITICAL] WORKER TIMEOUT (pid:6216)\n",
      "[2022-12-13 15:22:59 -0800] [6212] [CRITICAL] WORKER TIMEOUT (pid:6217)\n",
      "[2022-12-13 15:22:59 -0800] [6216] [INFO] Worker exiting (pid: 6216)\n",
      "[2022-12-13 15:22:59 -0800] [6214] [INFO] Worker exiting (pid: 6214)\n",
      "[2022-12-13 15:22:59 -0800] [6217] [INFO] Worker exiting (pid: 6217)\n",
      "[2022-12-13 15:22:59 -0800] [6215] [INFO] Worker exiting (pid: 6215)\n",
      "[2022-12-13 15:23:00 -0800] [6212] [WARNING] Worker with pid 6216 was terminated due to signal 9\n",
      "[2022-12-13 15:23:00 -0800] [6212] [WARNING] Worker with pid 6217 was terminated due to signal 9\n",
      "[2022-12-13 15:23:00 -0800] [6212] [WARNING] Worker with pid 6214 was terminated due to signal 9\n",
      "[2022-12-13 15:23:00 -0800] [7284] [INFO] Booting worker with pid: 7284\n",
      "[2022-12-13 15:23:00 -0800] [6212] [WARNING] Worker with pid 6215 was terminated due to signal 9\n",
      "[2022-12-13 15:23:00 -0800] [7285] [INFO] Booting worker with pid: 7285\n",
      "[2022-12-13 15:23:00 -0800] [7286] [INFO] Booting worker with pid: 7286\n",
      "[2022-12-13 15:23:00 -0800] [7287] [INFO] Booting worker with pid: 7287\n"
     ]
    }
   ],
   "source": [
    "import shap\n",
    "\n",
    "def f(test_features):\n",
    "    return dnn_model.predict([test_features[:,i] for i in range(test_features.shape[1])]).flatten()\n",
    "\n",
    "explainer = shap.KernelExplainer(f, test_features.iloc[:50,:])\n",
    "shap_values = explainer.shap_values(test_features.iloc[299,:], nsamples=500)\n",
    "shap.force_plot(explainer.expected_value, shap_values, X_display.iloc[299,:])\n",
    "\n",
    "shap_values50 = explainer.shap_values(test_features.iloc[280:330,:], nsamples=500)\n",
    "\n",
    "shap.force_plot(explainer.expected_value, shap_values50, X_display.iloc[280:330,:])\n",
    "# YOUR CODE GOES HERE!"
   ]
  },
  {
   "cell_type": "markdown",
   "metadata": {
    "id": "0ec-ZXUntmWL"
   },
   "source": [
    "# Task 10 - Taking it to the Next Level! 📶\n",
    "\n",
    "Let's take our models and make a model comparison demo like we did last week, but this time you're taking the lead!  \n",
    "    \n",
    "1. Save your training dataset as a CSV file so that it can be used in the Streamlit app.\n",
    "1. Build a results DataFrame and save it as a CSV so that it can be used in the Streamlit app.\n",
    "1. In Tab 1 - Raw Data:\n",
    "* Display your training dataset in a Streamlit DataFrame (`st.DataFrame`).\n",
    "* Build 1-2 interactive Plotly visualizations that explore the dataset (correlations, scatterplot, etc.)\n",
    "2. In Tab 2 - Model Results:\n",
    "* Display your performance metrics appropriately using 2-3 metrics for model comparison.\n",
    "3. In Tab 3 - Model Explainability:\n",
    "* Make local and global explainability plots to compare two models at a time side-by-side.  [Here](https://www.kaggle.com/code/elsa155026/uciheart-kernel-shap-and-interactive-visualization/notebook) is a good example if how to create some different explainability plots using Plotly."
   ]
  },
  {
   "cell_type": "code",
   "execution_count": 63,
   "metadata": {},
   "outputs": [],
   "source": [
    "train_dataset.to_csv('/home/annrdyer/ann_repo/assignments/week-07-intro-dl/nb/train_dataset.csv', index=False)"
   ]
  },
  {
   "cell_type": "code",
   "execution_count": 62,
   "metadata": {},
   "outputs": [
    {
     "name": "stdout",
     "output_type": "stream",
     "text": [
      "3/3 [==============================] - 0s 4ms/step\n",
      "3/3 [==============================] - 0s 5ms/step\n",
      "(78, 1)\n",
      "(78, 1)\n",
      "(78, 1)\n",
      "(78, 4)\n",
      "    MPG  Linear Regression        DNN       TPOT\n",
      "0  15.0          12.954369  15.648691  14.292250\n",
      "1  10.0           7.334591  10.983639  11.673583\n",
      "2   9.0           6.417295  11.662319  11.192333\n",
      "3  25.0          26.969568  24.425488  25.064850\n",
      "4  19.0          21.177301  20.548803  19.226600\n"
     ]
    },
    {
     "name": "stderr",
     "output_type": "stream",
     "text": [
      "/home/annrdyer/anaconda3/envs/mle-course/lib/python3.8/site-packages/sklearn/base.py:450: UserWarning: X does not have valid feature names, but LinearSVR was fitted with feature names\n",
      "  warnings.warn(\n"
     ]
    }
   ],
   "source": [
    "labels = test_dataset['MPG'].reset_index(drop=True)\n",
    "\n",
    "linear_test_predictions = pd.DataFrame(linear_model.predict(test_features).flatten(), columns=['Linear Regression'])\n",
    "dnn_test_predictions    = pd.DataFrame(dnn_model.predict(test_features).flatten(), columns=['DNN']) \n",
    "tpot_test_predictions   = pd.DataFrame(exported_pipeline.predict(test_features), columns=['TPOT']) \n",
    "\n",
    "results_dataset = pd.concat([labels, linear_test_predictions, dnn_test_predictions, tpot_test_predictions], axis=1)\n",
    "\n",
    "print(linear_test_predictions.shape)\n",
    "print(dnn_test_predictions.shape)\n",
    "print(tpot_test_predictions.shape)\n",
    "\n",
    "print(results_dataset.shape)\n",
    "print(results_dataset.head())\n",
    "    \n",
    "results_dataset.to_csv('/home/annrdyer/ann_repo/assignments/week-07-intro-dl/nb/results.csv', index=False)"
   ]
  },
  {
   "cell_type": "markdown",
   "metadata": {
    "id": "tDZ_9p6L_U9L"
   },
   "source": [
    "# Additional Resources"
   ]
  },
  {
   "cell_type": "markdown",
   "metadata": {
    "id": "6dtjRavkXunK"
   },
   "source": [
    "- [Tensorflow playground](https://playground.tensorflow.org/) for an interactive experience to understand how nueral networkds work.\n",
    "\n",
    "- [An Introduction to Deep Learning for Tabular Data](https://www.fast.ai/2018/04/29/categorical-embeddings/) covers embeddings for categorical variables. \n",
    "\n",
    "- [Imbalanced classification: credit card fraud detection](https://keras.io/examples/structured_data/imbalanced_classification/) demonstrates using `class_weight` to handle imbalanced classification problems. "
   ]
  },
  {
   "cell_type": "markdown",
   "metadata": {
    "heading_collapsed": true,
    "id": "RTRCN3xsXunK"
   },
   "source": [
    "# Acknowledgement and Copyright"
   ]
  },
  {
   "cell_type": "markdown",
   "metadata": {
    "hidden": true,
    "id": "riVFgcSTmY0R"
   },
   "source": [
    "##### Acknowledgement"
   ]
  },
  {
   "cell_type": "markdown",
   "metadata": {
    "hidden": true,
    "id": "higVWuZMmc7w"
   },
   "source": [
    "This notebook is adapted from [tensorflow/keras tuorial - regression](https://www.tensorflow.org/tutorials/keras/regression)"
   ]
  },
  {
   "cell_type": "markdown",
   "metadata": {
    "heading_collapsed": true,
    "hidden": true,
    "id": "MJuKft5yXunK"
   },
   "source": [
    "##### Copyright 2018 The TensorFlow Authors."
   ]
  },
  {
   "cell_type": "markdown",
   "metadata": {
    "cellView": "form",
    "hidden": true,
    "id": "AwOEIRJC6Une"
   },
   "source": [
    "@title Licensed under the Apache License, Version 2.0 (the \"License\");\n",
    "you may not use this file except in compliance with the License.\n",
    "You may obtain a copy of the License at\n",
    "\n",
    "https://www.apache.org/licenses/LICENSE-2.0\n",
    "\n",
    "Unless required by applicable law or agreed to in writing, software\n",
    "distributed under the License is distributed on an \"AS IS\" BASIS,\n",
    "WITHOUT WARRANTIES OR CONDITIONS OF ANY KIND, either express or implied.\n",
    "See the License for the specific language governing permissions and\n",
    "limitations under the License."
   ]
  },
  {
   "cell_type": "markdown",
   "metadata": {
    "cellView": "form",
    "hidden": true,
    "id": "KyPEtTqk6VdG"
   },
   "source": [
    "@title MIT License\n",
    "\n",
    "Copyright (c) 2017 François Chollet\n",
    "\n",
    "Permission is hereby granted, free of charge, to any person obtaining a\n",
    "copy of this software and associated documentation files (the \"Software\"),\n",
    "to deal in the Software without restriction, including without limitation\n",
    "the rights to use, copy, modify, merge, publish, distribute, sublicense,\n",
    "and/or sell copies of the Software, and to permit persons to whom the\n",
    "Software is furnished to do so, subject to the following conditions:\n",
    "\n",
    "The above copyright notice and this permission notice shall be included in\n",
    "all copies or substantial portions of the Software.\n",
    "\n",
    "THE SOFTWARE IS PROVIDED \"AS IS\", WITHOUT WARRANTY OF ANY KIND, EXPRESS OR\n",
    "IMPLIED, INCLUDING BUT NOT LIMITED TO THE WARRANTIES OF MERCHANTABILITY,\n",
    "FITNESS FOR A PARTICULAR PURPOSE AND NONINFRINGEMENT. IN NO EVENT SHALL\n",
    "THE AUTHORS OR COPYRIGHT HOLDERS BE LIABLE FOR ANY CLAIM, DAMAGES OR OTHER\n",
    "LIABILITY, WHETHER IN AN ACTION OF CONTRACT, TORT OR OTHERWISE, ARISING\n",
    "FROM, OUT OF OR IN CONNECTION WITH THE SOFTWARE OR THE USE OR OTHER\n",
    "DEALINGS IN THE SOFTWARE."
   ]
  }
 ],
 "metadata": {
  "colab": {
   "collapsed_sections": [],
   "provenance": [],
   "toc_visible": true
  },
  "kernelspec": {
   "display_name": "Python 3 (ipykernel)",
   "language": "python",
   "name": "python3"
  },
  "language_info": {
   "codemirror_mode": {
    "name": "ipython",
    "version": 3
   },
   "file_extension": ".py",
   "mimetype": "text/x-python",
   "name": "python",
   "nbconvert_exporter": "python",
   "pygments_lexer": "ipython3",
   "version": "3.8.13"
  },
  "toc": {
   "base_numbering": 1,
   "nav_menu": {},
   "number_sections": true,
   "sideBar": true,
   "skip_h1_title": false,
   "title_cell": "Table of Contents",
   "title_sidebar": "Contents",
   "toc_cell": false,
   "toc_position": {
    "height": "calc(100% - 180px)",
    "left": "10px",
    "top": "150px",
    "width": "244.390625px"
   },
   "toc_section_display": true,
   "toc_window_display": false
  },
  "vscode": {
   "interpreter": {
    "hash": "b0fa6594d8f4cbf19f97940f81e996739fb7646882a419484c72d19e05852a7e"
   }
  },
  "widgets": {
   "application/vnd.jupyter.widget-state+json": {
    "025e808948034d0c91e2b20b0918da0e": {
     "model_module": "@jupyter-widgets/controls",
     "model_module_version": "1.5.0",
     "model_name": "DescriptionStyleModel",
     "state": {
      "_model_module": "@jupyter-widgets/controls",
      "_model_module_version": "1.5.0",
      "_model_name": "DescriptionStyleModel",
      "_view_count": null,
      "_view_module": "@jupyter-widgets/base",
      "_view_module_version": "1.2.0",
      "_view_name": "StyleView",
      "description_width": ""
     }
    },
    "0b8e29c1645d42afa585020fa0df67ae": {
     "model_module": "@jupyter-widgets/controls",
     "model_module_version": "1.5.0",
     "model_name": "HTMLModel",
     "state": {
      "_dom_classes": [],
      "_model_module": "@jupyter-widgets/controls",
      "_model_module_version": "1.5.0",
      "_model_name": "HTMLModel",
      "_view_count": null,
      "_view_module": "@jupyter-widgets/controls",
      "_view_module_version": "1.5.0",
      "_view_name": "HTMLView",
      "description": "",
      "description_tooltip": null,
      "layout": "IPY_MODEL_1e6b41d169ed44799d95ded612c4ffbf",
      "placeholder": "​",
      "style": "IPY_MODEL_025e808948034d0c91e2b20b0918da0e",
      "value": " 10/10 [00:08&lt;00:00,  1.42it/s]"
     }
    },
    "1e6b41d169ed44799d95ded612c4ffbf": {
     "model_module": "@jupyter-widgets/base",
     "model_module_version": "1.2.0",
     "model_name": "LayoutModel",
     "state": {
      "_model_module": "@jupyter-widgets/base",
      "_model_module_version": "1.2.0",
      "_model_name": "LayoutModel",
      "_view_count": null,
      "_view_module": "@jupyter-widgets/base",
      "_view_module_version": "1.2.0",
      "_view_name": "LayoutView",
      "align_content": null,
      "align_items": null,
      "align_self": null,
      "border": null,
      "bottom": null,
      "display": null,
      "flex": null,
      "flex_flow": null,
      "grid_area": null,
      "grid_auto_columns": null,
      "grid_auto_flow": null,
      "grid_auto_rows": null,
      "grid_column": null,
      "grid_gap": null,
      "grid_row": null,
      "grid_template_areas": null,
      "grid_template_columns": null,
      "grid_template_rows": null,
      "height": null,
      "justify_content": null,
      "justify_items": null,
      "left": null,
      "margin": null,
      "max_height": null,
      "max_width": null,
      "min_height": null,
      "min_width": null,
      "object_fit": null,
      "object_position": null,
      "order": null,
      "overflow": null,
      "overflow_x": null,
      "overflow_y": null,
      "padding": null,
      "right": null,
      "top": null,
      "visibility": null,
      "width": null
     }
    },
    "2dbf5b2c7f974f35a488307eac5f19aa": {
     "model_module": "@jupyter-widgets/base",
     "model_module_version": "1.2.0",
     "model_name": "LayoutModel",
     "state": {
      "_model_module": "@jupyter-widgets/base",
      "_model_module_version": "1.2.0",
      "_model_name": "LayoutModel",
      "_view_count": null,
      "_view_module": "@jupyter-widgets/base",
      "_view_module_version": "1.2.0",
      "_view_name": "LayoutView",
      "align_content": null,
      "align_items": null,
      "align_self": null,
      "border": null,
      "bottom": null,
      "display": null,
      "flex": null,
      "flex_flow": null,
      "grid_area": null,
      "grid_auto_columns": null,
      "grid_auto_flow": null,
      "grid_auto_rows": null,
      "grid_column": null,
      "grid_gap": null,
      "grid_row": null,
      "grid_template_areas": null,
      "grid_template_columns": null,
      "grid_template_rows": null,
      "height": null,
      "justify_content": null,
      "justify_items": null,
      "left": null,
      "margin": null,
      "max_height": null,
      "max_width": null,
      "min_height": null,
      "min_width": null,
      "object_fit": null,
      "object_position": null,
      "order": null,
      "overflow": null,
      "overflow_x": null,
      "overflow_y": null,
      "padding": null,
      "right": null,
      "top": null,
      "visibility": null,
      "width": null
     }
    },
    "42312548e6be4e049a3300c1463a74df": {
     "model_module": "@jupyter-widgets/controls",
     "model_module_version": "1.5.0",
     "model_name": "ProgressStyleModel",
     "state": {
      "_model_module": "@jupyter-widgets/controls",
      "_model_module_version": "1.5.0",
      "_model_name": "ProgressStyleModel",
      "_view_count": null,
      "_view_module": "@jupyter-widgets/base",
      "_view_module_version": "1.2.0",
      "_view_name": "StyleView",
      "bar_color": null,
      "description_width": ""
     }
    },
    "4762b74087844de687777a36962ed590": {
     "model_module": "@jupyter-widgets/base",
     "model_module_version": "1.2.0",
     "model_name": "LayoutModel",
     "state": {
      "_model_module": "@jupyter-widgets/base",
      "_model_module_version": "1.2.0",
      "_model_name": "LayoutModel",
      "_view_count": null,
      "_view_module": "@jupyter-widgets/base",
      "_view_module_version": "1.2.0",
      "_view_name": "LayoutView",
      "align_content": null,
      "align_items": null,
      "align_self": null,
      "border": null,
      "bottom": null,
      "display": null,
      "flex": null,
      "flex_flow": null,
      "grid_area": null,
      "grid_auto_columns": null,
      "grid_auto_flow": null,
      "grid_auto_rows": null,
      "grid_column": null,
      "grid_gap": null,
      "grid_row": null,
      "grid_template_areas": null,
      "grid_template_columns": null,
      "grid_template_rows": null,
      "height": null,
      "justify_content": null,
      "justify_items": null,
      "left": null,
      "margin": null,
      "max_height": null,
      "max_width": null,
      "min_height": null,
      "min_width": null,
      "object_fit": null,
      "object_position": null,
      "order": null,
      "overflow": null,
      "overflow_x": null,
      "overflow_y": null,
      "padding": null,
      "right": null,
      "top": null,
      "visibility": null,
      "width": null
     }
    },
    "48ace3fbd1864095b2e801fc7d81f331": {
     "model_module": "@jupyter-widgets/base",
     "model_module_version": "1.2.0",
     "model_name": "LayoutModel",
     "state": {
      "_model_module": "@jupyter-widgets/base",
      "_model_module_version": "1.2.0",
      "_model_name": "LayoutModel",
      "_view_count": null,
      "_view_module": "@jupyter-widgets/base",
      "_view_module_version": "1.2.0",
      "_view_name": "LayoutView",
      "align_content": null,
      "align_items": null,
      "align_self": null,
      "border": null,
      "bottom": null,
      "display": null,
      "flex": null,
      "flex_flow": null,
      "grid_area": null,
      "grid_auto_columns": null,
      "grid_auto_flow": null,
      "grid_auto_rows": null,
      "grid_column": null,
      "grid_gap": null,
      "grid_row": null,
      "grid_template_areas": null,
      "grid_template_columns": null,
      "grid_template_rows": null,
      "height": null,
      "justify_content": null,
      "justify_items": null,
      "left": null,
      "margin": null,
      "max_height": null,
      "max_width": null,
      "min_height": null,
      "min_width": null,
      "object_fit": null,
      "object_position": null,
      "order": null,
      "overflow": null,
      "overflow_x": null,
      "overflow_y": null,
      "padding": null,
      "right": null,
      "top": null,
      "visibility": null,
      "width": null
     }
    },
    "6171c78fcfc7416784fedd151719857f": {
     "model_module": "@jupyter-widgets/controls",
     "model_module_version": "1.5.0",
     "model_name": "DescriptionStyleModel",
     "state": {
      "_model_module": "@jupyter-widgets/controls",
      "_model_module_version": "1.5.0",
      "_model_name": "DescriptionStyleModel",
      "_view_count": null,
      "_view_module": "@jupyter-widgets/base",
      "_view_module_version": "1.2.0",
      "_view_name": "StyleView",
      "description_width": ""
     }
    },
    "66562df157104520aba66096e0110b6d": {
     "model_module": "@jupyter-widgets/controls",
     "model_module_version": "1.5.0",
     "model_name": "FloatProgressModel",
     "state": {
      "_dom_classes": [],
      "_model_module": "@jupyter-widgets/controls",
      "_model_module_version": "1.5.0",
      "_model_name": "FloatProgressModel",
      "_view_count": null,
      "_view_module": "@jupyter-widgets/controls",
      "_view_module_version": "1.5.0",
      "_view_name": "ProgressView",
      "bar_style": "success",
      "description": "",
      "description_tooltip": null,
      "layout": "IPY_MODEL_4762b74087844de687777a36962ed590",
      "max": 10,
      "min": 0,
      "orientation": "horizontal",
      "style": "IPY_MODEL_42312548e6be4e049a3300c1463a74df",
      "value": 10
     }
    },
    "6a044954b19e4a28943c579fee0e3a18": {
     "model_module": "@jupyter-widgets/base",
     "model_module_version": "1.2.0",
     "model_name": "LayoutModel",
     "state": {
      "_model_module": "@jupyter-widgets/base",
      "_model_module_version": "1.2.0",
      "_model_name": "LayoutModel",
      "_view_count": null,
      "_view_module": "@jupyter-widgets/base",
      "_view_module_version": "1.2.0",
      "_view_name": "LayoutView",
      "align_content": null,
      "align_items": null,
      "align_self": null,
      "border": null,
      "bottom": null,
      "display": null,
      "flex": null,
      "flex_flow": null,
      "grid_area": null,
      "grid_auto_columns": null,
      "grid_auto_flow": null,
      "grid_auto_rows": null,
      "grid_column": null,
      "grid_gap": null,
      "grid_row": null,
      "grid_template_areas": null,
      "grid_template_columns": null,
      "grid_template_rows": null,
      "height": null,
      "justify_content": null,
      "justify_items": null,
      "left": null,
      "margin": null,
      "max_height": null,
      "max_width": null,
      "min_height": null,
      "min_width": null,
      "object_fit": null,
      "object_position": null,
      "order": null,
      "overflow": null,
      "overflow_x": null,
      "overflow_y": null,
      "padding": null,
      "right": null,
      "top": null,
      "visibility": null,
      "width": null
     }
    },
    "72a2425764674ce190927fbbf3b081a1": {
     "model_module": "@jupyter-widgets/controls",
     "model_module_version": "1.5.0",
     "model_name": "HBoxModel",
     "state": {
      "_dom_classes": [],
      "_model_module": "@jupyter-widgets/controls",
      "_model_module_version": "1.5.0",
      "_model_name": "HBoxModel",
      "_view_count": null,
      "_view_module": "@jupyter-widgets/controls",
      "_view_module_version": "1.5.0",
      "_view_name": "HBoxView",
      "box_style": "",
      "children": [
       "IPY_MODEL_d9f6d54ab402459b81ba65ca8f73f58e",
       "IPY_MODEL_66562df157104520aba66096e0110b6d",
       "IPY_MODEL_0b8e29c1645d42afa585020fa0df67ae"
      ],
      "layout": "IPY_MODEL_74d2ed5b965b4ecfbcf3b10ffb4486cf"
     }
    },
    "74d2ed5b965b4ecfbcf3b10ffb4486cf": {
     "model_module": "@jupyter-widgets/base",
     "model_module_version": "1.2.0",
     "model_name": "LayoutModel",
     "state": {
      "_model_module": "@jupyter-widgets/base",
      "_model_module_version": "1.2.0",
      "_model_name": "LayoutModel",
      "_view_count": null,
      "_view_module": "@jupyter-widgets/base",
      "_view_module_version": "1.2.0",
      "_view_name": "LayoutView",
      "align_content": null,
      "align_items": null,
      "align_self": null,
      "border": null,
      "bottom": null,
      "display": null,
      "flex": null,
      "flex_flow": null,
      "grid_area": null,
      "grid_auto_columns": null,
      "grid_auto_flow": null,
      "grid_auto_rows": null,
      "grid_column": null,
      "grid_gap": null,
      "grid_row": null,
      "grid_template_areas": null,
      "grid_template_columns": null,
      "grid_template_rows": null,
      "height": null,
      "justify_content": null,
      "justify_items": null,
      "left": null,
      "margin": null,
      "max_height": null,
      "max_width": null,
      "min_height": null,
      "min_width": null,
      "object_fit": null,
      "object_position": null,
      "order": null,
      "overflow": null,
      "overflow_x": null,
      "overflow_y": null,
      "padding": null,
      "right": null,
      "top": null,
      "visibility": null,
      "width": null
     }
    },
    "76363a3fc90e46b1b040a21e9eaa21f1": {
     "model_module": "@jupyter-widgets/base",
     "model_module_version": "1.2.0",
     "model_name": "LayoutModel",
     "state": {
      "_model_module": "@jupyter-widgets/base",
      "_model_module_version": "1.2.0",
      "_model_name": "LayoutModel",
      "_view_count": null,
      "_view_module": "@jupyter-widgets/base",
      "_view_module_version": "1.2.0",
      "_view_name": "LayoutView",
      "align_content": null,
      "align_items": null,
      "align_self": null,
      "border": null,
      "bottom": null,
      "display": null,
      "flex": null,
      "flex_flow": null,
      "grid_area": null,
      "grid_auto_columns": null,
      "grid_auto_flow": null,
      "grid_auto_rows": null,
      "grid_column": null,
      "grid_gap": null,
      "grid_row": null,
      "grid_template_areas": null,
      "grid_template_columns": null,
      "grid_template_rows": null,
      "height": null,
      "justify_content": null,
      "justify_items": null,
      "left": null,
      "margin": null,
      "max_height": null,
      "max_width": null,
      "min_height": null,
      "min_width": null,
      "object_fit": null,
      "object_position": null,
      "order": null,
      "overflow": null,
      "overflow_x": null,
      "overflow_y": null,
      "padding": null,
      "right": null,
      "top": null,
      "visibility": null,
      "width": null
     }
    },
    "79366c8022e74226bfe2768e5d9e6ee1": {
     "model_module": "@jupyter-widgets/controls",
     "model_module_version": "1.5.0",
     "model_name": "HTMLModel",
     "state": {
      "_dom_classes": [],
      "_model_module": "@jupyter-widgets/controls",
      "_model_module_version": "1.5.0",
      "_model_name": "HTMLModel",
      "_view_count": null,
      "_view_module": "@jupyter-widgets/controls",
      "_view_module_version": "1.5.0",
      "_view_name": "HTMLView",
      "description": "",
      "description_tooltip": null,
      "layout": "IPY_MODEL_2dbf5b2c7f974f35a488307eac5f19aa",
      "placeholder": "​",
      "style": "IPY_MODEL_c9c8b7507a9e43a0b42f9119d1c58a8c",
      "value": " 440/440 [07:40&lt;00:00,  1.29s/pipeline]"
     }
    },
    "795ad58f335e4f5a8a2cf188b6c27891": {
     "model_module": "@jupyter-widgets/controls",
     "model_module_version": "1.5.0",
     "model_name": "HTMLModel",
     "state": {
      "_dom_classes": [],
      "_model_module": "@jupyter-widgets/controls",
      "_model_module_version": "1.5.0",
      "_model_name": "HTMLModel",
      "_view_count": null,
      "_view_module": "@jupyter-widgets/controls",
      "_view_module_version": "1.5.0",
      "_view_name": "HTMLView",
      "description": "",
      "description_tooltip": null,
      "layout": "IPY_MODEL_48ace3fbd1864095b2e801fc7d81f331",
      "placeholder": "​",
      "style": "IPY_MODEL_c1a60f46c54343638707335cacb0de7f",
      "value": "Optimization Progress: 100%"
     }
    },
    "810efda3ce3a487c8562223a6c3109e9": {
     "model_module": "@jupyter-widgets/controls",
     "model_module_version": "1.5.0",
     "model_name": "FloatProgressModel",
     "state": {
      "_dom_classes": [],
      "_model_module": "@jupyter-widgets/controls",
      "_model_module_version": "1.5.0",
      "_model_name": "FloatProgressModel",
      "_view_count": null,
      "_view_module": "@jupyter-widgets/controls",
      "_view_module_version": "1.5.0",
      "_view_name": "ProgressView",
      "bar_style": "",
      "description": "",
      "description_tooltip": null,
      "layout": "IPY_MODEL_76363a3fc90e46b1b040a21e9eaa21f1",
      "max": 440,
      "min": 0,
      "orientation": "horizontal",
      "style": "IPY_MODEL_8a107efdc33440c9ba472e2c17b95ea7",
      "value": 440
     }
    },
    "8a107efdc33440c9ba472e2c17b95ea7": {
     "model_module": "@jupyter-widgets/controls",
     "model_module_version": "1.5.0",
     "model_name": "ProgressStyleModel",
     "state": {
      "_model_module": "@jupyter-widgets/controls",
      "_model_module_version": "1.5.0",
      "_model_name": "ProgressStyleModel",
      "_view_count": null,
      "_view_module": "@jupyter-widgets/base",
      "_view_module_version": "1.2.0",
      "_view_name": "StyleView",
      "bar_color": null,
      "description_width": ""
     }
    },
    "b2be8f74181f4f67b17d04c73a30cc12": {
     "model_module": "@jupyter-widgets/base",
     "model_module_version": "1.2.0",
     "model_name": "LayoutModel",
     "state": {
      "_model_module": "@jupyter-widgets/base",
      "_model_module_version": "1.2.0",
      "_model_name": "LayoutModel",
      "_view_count": null,
      "_view_module": "@jupyter-widgets/base",
      "_view_module_version": "1.2.0",
      "_view_name": "LayoutView",
      "align_content": null,
      "align_items": null,
      "align_self": null,
      "border": null,
      "bottom": null,
      "display": null,
      "flex": null,
      "flex_flow": null,
      "grid_area": null,
      "grid_auto_columns": null,
      "grid_auto_flow": null,
      "grid_auto_rows": null,
      "grid_column": null,
      "grid_gap": null,
      "grid_row": null,
      "grid_template_areas": null,
      "grid_template_columns": null,
      "grid_template_rows": null,
      "height": null,
      "justify_content": null,
      "justify_items": null,
      "left": null,
      "margin": null,
      "max_height": null,
      "max_width": null,
      "min_height": null,
      "min_width": null,
      "object_fit": null,
      "object_position": null,
      "order": null,
      "overflow": null,
      "overflow_x": null,
      "overflow_y": null,
      "padding": null,
      "right": null,
      "top": null,
      "visibility": "hidden",
      "width": null
     }
    },
    "c1a60f46c54343638707335cacb0de7f": {
     "model_module": "@jupyter-widgets/controls",
     "model_module_version": "1.5.0",
     "model_name": "DescriptionStyleModel",
     "state": {
      "_model_module": "@jupyter-widgets/controls",
      "_model_module_version": "1.5.0",
      "_model_name": "DescriptionStyleModel",
      "_view_count": null,
      "_view_module": "@jupyter-widgets/base",
      "_view_module_version": "1.2.0",
      "_view_name": "StyleView",
      "description_width": ""
     }
    },
    "c9c8b7507a9e43a0b42f9119d1c58a8c": {
     "model_module": "@jupyter-widgets/controls",
     "model_module_version": "1.5.0",
     "model_name": "DescriptionStyleModel",
     "state": {
      "_model_module": "@jupyter-widgets/controls",
      "_model_module_version": "1.5.0",
      "_model_name": "DescriptionStyleModel",
      "_view_count": null,
      "_view_module": "@jupyter-widgets/base",
      "_view_module_version": "1.2.0",
      "_view_name": "StyleView",
      "description_width": ""
     }
    },
    "d9f6d54ab402459b81ba65ca8f73f58e": {
     "model_module": "@jupyter-widgets/controls",
     "model_module_version": "1.5.0",
     "model_name": "HTMLModel",
     "state": {
      "_dom_classes": [],
      "_model_module": "@jupyter-widgets/controls",
      "_model_module_version": "1.5.0",
      "_model_name": "HTMLModel",
      "_view_count": null,
      "_view_module": "@jupyter-widgets/controls",
      "_view_module_version": "1.5.0",
      "_view_name": "HTMLView",
      "description": "",
      "description_tooltip": null,
      "layout": "IPY_MODEL_6a044954b19e4a28943c579fee0e3a18",
      "placeholder": "​",
      "style": "IPY_MODEL_6171c78fcfc7416784fedd151719857f",
      "value": "100%"
     }
    },
    "f0639c63a42e4724b1093c10a0495606": {
     "model_module": "@jupyter-widgets/controls",
     "model_module_version": "1.5.0",
     "model_name": "HBoxModel",
     "state": {
      "_dom_classes": [],
      "_model_module": "@jupyter-widgets/controls",
      "_model_module_version": "1.5.0",
      "_model_name": "HBoxModel",
      "_view_count": null,
      "_view_module": "@jupyter-widgets/controls",
      "_view_module_version": "1.5.0",
      "_view_name": "HBoxView",
      "box_style": "",
      "children": [
       "IPY_MODEL_795ad58f335e4f5a8a2cf188b6c27891",
       "IPY_MODEL_810efda3ce3a487c8562223a6c3109e9",
       "IPY_MODEL_79366c8022e74226bfe2768e5d9e6ee1"
      ],
      "layout": "IPY_MODEL_b2be8f74181f4f67b17d04c73a30cc12"
     }
    }
   }
  }
 },
 "nbformat": 4,
 "nbformat_minor": 1
}
